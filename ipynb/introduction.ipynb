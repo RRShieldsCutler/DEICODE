{
 "cells": [
  {
   "cell_type": "code",
   "execution_count": 1,
   "metadata": {},
   "outputs": [],
   "source": [
    "import numpy as np\n",
    "from scipy.stats import norm\n",
    "import matplotlib.pyplot as plt\n",
    "from scipy.stats import pearsonr\n",
    "from numpy.random import poisson, lognormal\n",
    "from skbio.stats.composition import closure, clr\n",
    "from deicode.preprocessing import rclr\n",
    "from deicode.optspace import OptSpace\n",
    "from IPython.core.display import HTML\n",
    "%matplotlib inline"
   ]
  },
  {
   "cell_type": "code",
   "execution_count": 2,
   "metadata": {},
   "outputs": [
    {
     "data": {
      "text/html": [
       "<style>div.cell { /* Tunes the space between cells */margin-top:1em;margin-bottom:1em;}div.text_cell_render h1 { /* Main titles bigger, centered */\n",
       "font-size: 3em;line-height:1.4em;text-align:center;}\n",
       "div.text_cell_render h2 { /*  Parts names nearer from text */margin-bottom: -0.4em;}\n",
       "div.text_cell_render { /* Customize text cells */font-family: 'Times New Roman';font-size:1.5em;line-height:1.4em;\n",
       "padding-left:3em;padding-right:3em;}</style>"
      ],
      "text/plain": [
       "<IPython.core.display.HTML object>"
      ]
     },
     "execution_count": 2,
     "metadata": {},
     "output_type": "execute_result"
    }
   ],
   "source": [
    "#fix font-size\n",
    "HTML(\"\"\"<style>div.cell { /* Tunes the space between cells */margin-top:1em;margin-bottom:1em;}div.text_cell_render h1 { /* Main titles bigger, centered */\n",
    "font-size: 3em;line-height:1.4em;text-align:center;}\n",
    "div.text_cell_render h2 { /*  Parts names nearer from text */margin-bottom: -0.4em;}\n",
    "div.text_cell_render { /* Customize text cells */font-family: 'Times New Roman';font-size:1.5em;line-height:1.4em;\n",
    "padding-left:3em;padding-right:3em;}</style>\"\"\")"
   ]
  },
  {
   "cell_type": "markdown",
   "metadata": {},
   "source": [
    "## Robust Aitchison and Subcompositional Coherence \n",
    " "
   ]
  },
  {
   "cell_type": "markdown",
   "metadata": {},
   "source": [
    "We skip over the use of matrix completion here, but for a primer on the methodology see [here](https://github.com/asberk/matrix-completion-whirlwind/blob/master/matrix_completion_master.ipynb). The exact method used here, OptSpace can be found [here](https://arxiv.org/pdf/0906.2027.pdf)."
   ]
  },
  {
   "cell_type": "markdown",
   "metadata": {},
   "source": [
    "Example from [\"A Concise Guide to Compositional Data Analysis\"](http://www.leg.ufpr.br/lib/exe/fetch.php/pessoais:abtmartins:a_concise_guide_to_compositional_data_analysis.pdf) by John Aitchison\n",
    "(page 21-22)"
   ]
  },
  {
   "cell_type": "markdown",
   "metadata": {},
   "source": [
    "Consider the simple data set with $[x_1, x_2, x_3, x_4]$ features and three samples\n",
    "\n"
   ]
  },
  {
   "cell_type": "code",
   "execution_count": 3,
   "metadata": {},
   "outputs": [
    {
     "data": {
      "text/plain": [
       "array([[100, 200, 100, 600],\n",
       "       [200, 100, 100, 600],\n",
       "       [300, 300, 200, 200]])"
      ]
     },
     "execution_count": 3,
     "metadata": {},
     "output_type": "execute_result"
    }
   ],
   "source": [
    "X =  np.array([[100, 200, 100, 600],\n",
    "              [200, 100, 100, 600],\n",
    "              [300, 300, 200, 200]])\n",
    "X"
   ]
  },
  {
   "cell_type": "markdown",
   "metadata": {},
   "source": [
    "The full composition A is demonstrated below with $corr(x_1,x_2)=0.5$"
   ]
  },
  {
   "cell_type": "code",
   "execution_count": 4,
   "metadata": {},
   "outputs": [
    {
     "data": {
      "text/plain": [
       "array([[ 0.1,  0.2,  0.1,  0.6],\n",
       "       [ 0.2,  0.1,  0.1,  0.6],\n",
       "       [ 0.3,  0.3,  0.2,  0.2]])"
      ]
     },
     "execution_count": 4,
     "metadata": {},
     "output_type": "execute_result"
    }
   ],
   "source": [
    "A = closure(X)\n",
    "A"
   ]
  },
  {
   "cell_type": "code",
   "execution_count": 5,
   "metadata": {},
   "outputs": [
    {
     "data": {
      "text/plain": [
       "0.49999999999999983"
      ]
     },
     "execution_count": 5,
     "metadata": {},
     "output_type": "execute_result"
    }
   ],
   "source": [
    "pearsonr(A[:,0],A[:,1])[0]"
   ]
  },
  {
   "cell_type": "markdown",
   "metadata": {},
   "source": [
    "Now let's consider the subcompositon of x with $x_4$ missing so define B = $[x_1, x_2, x_3]$. We now get $corr(x_1,x_2)=-1.0$"
   ]
  },
  {
   "cell_type": "code",
   "execution_count": 6,
   "metadata": {},
   "outputs": [
    {
     "data": {
      "text/plain": [
       "array([[ 0.25 ,  0.5  ,  0.25 ],\n",
       "       [ 0.5  ,  0.25 ,  0.25 ],\n",
       "       [ 0.375,  0.375,  0.25 ]])"
      ]
     },
     "execution_count": 6,
     "metadata": {},
     "output_type": "execute_result"
    }
   ],
   "source": [
    "B = closure(X[:,:-1])\n",
    "B"
   ]
  },
  {
   "cell_type": "code",
   "execution_count": 7,
   "metadata": {},
   "outputs": [
    {
     "data": {
      "text/plain": [
       "-1.0"
      ]
     },
     "execution_count": 7,
     "metadata": {},
     "output_type": "execute_result"
    }
   ],
   "source": [
    "pearsonr(B[:,0],B[:,1])[0]"
   ]
  },
  {
   "cell_type": "markdown",
   "metadata": {},
   "source": [
    "There is thus incoherence of the product-moment correlation between raw components as a measure of dependence."
   ]
  },
  {
   "cell_type": "markdown",
   "metadata": {},
   "source": [
    "Note, however, that the log ratio of two components remains unchanged when we move from full composition to subcomposition. For example"
   ]
  },
  {
   "cell_type": "code",
   "execution_count": 8,
   "metadata": {},
   "outputs": [
    {
     "data": {
      "text/plain": [
       "array([-0.69314718,  0.69314718,  0.        ])"
      ]
     },
     "execution_count": 8,
     "metadata": {},
     "output_type": "execute_result"
    }
   ],
   "source": [
    "np.log(X[:,0])-np.log(X[:,1])"
   ]
  },
  {
   "cell_type": "code",
   "execution_count": 9,
   "metadata": {},
   "outputs": [
    {
     "data": {
      "text/plain": [
       "array([-0.69314718,  0.69314718,  0.        ])"
      ]
     },
     "execution_count": 9,
     "metadata": {},
     "output_type": "execute_result"
    }
   ],
   "source": [
    "np.log(X[:,:-1][:,0])-np.log(X[:,:-1][:,1])"
   ]
  },
  {
   "cell_type": "markdown",
   "metadata": {},
   "source": [
    "This can be further shown by the clr transform on a slightly larger dataset. We we will construct a dataset with three features all sampled in time. The first feature is lowly abundant but exponentially increasing in time. The second feature is highly abundant and constant in time. Finally, the third feature highly abundant and is stochastic in time. \n",
    "\n",
    "\n",
    "clr transformation is given by:\n",
    "\n",
    "$clr(\\vec{x}) = [log(\\frac{x_i}{g(\\vec{x})}) , ... , log(\\frac{x_D}{g(\\vec{x})})] = log(\\vec{x}) - \\bar{log(\\vec{x})}$\n",
    "\n",
    "where $g(\\vec{x})$ is the geometric mean of all the features.\n"
   ]
  },
  {
   "cell_type": "code",
   "execution_count": 10,
   "metadata": {},
   "outputs": [
    {
     "data": {
      "text/plain": [
       "(100, 3)"
      ]
     },
     "execution_count": 10,
     "metadata": {},
     "output_type": "execute_result"
    }
   ],
   "source": [
    "n = 100\n",
    "t = np.linspace(1, 10, n)\n",
    "x1 = np.exp(t) * 0.001\n",
    "x2 = np.random.normal(size=n) + 100\n",
    "x3 = np.random.normal(size=n) * 10 + 100\n",
    "X = np.vstack((x1, x2, x3)).T\n",
    "X.shape"
   ]
  },
  {
   "cell_type": "markdown",
   "metadata": {},
   "source": [
    "To visualize this we will plot counts by time colored by feature. "
   ]
  },
  {
   "cell_type": "code",
   "execution_count": 11,
   "metadata": {},
   "outputs": [
    {
     "data": {
      "image/png": "[encoded data removed]",
      "text/plain": [
       "<Figure size 432x288 with 1 Axes>"
      ]
     },
     "metadata": {
      "needs_background": "light"
     },
     "output_type": "display_data"
    }
   ],
   "source": [
    "plt.rcParams[\"axes.labelsize\"] = 14\n",
    "plt.rcParams['xtick.labelsize'] = 14\n",
    "plt.rcParams['ytick.labelsize'] = 14\n",
    "plt.plot(t, x1, label='feature 1',lw=3)\n",
    "plt.plot(t, x2, label='feature 2',lw=3)\n",
    "plt.plot(t, x3, label='feature 3',lw=3)\n",
    "plt.legend() \n",
    "plt.ylabel('Counts', fontsize=22)\n",
    "plt.legend(prop={'size': 15})\n",
    "plt.show()"
   ]
  },
  {
   "cell_type": "markdown",
   "metadata": {},
   "source": [
    "The full compositions A is demonstrated below with $corr(x_1,x_2)=-0.5$ while the clr equivalent A_clr is $corr(x_1,x_2)=-1.0$"
   ]
  },
  {
   "cell_type": "code",
   "execution_count": 12,
   "metadata": {},
   "outputs": [
    {
     "data": {
      "text/plain": [
       "(100, 3)"
      ]
     },
     "execution_count": 12,
     "metadata": {},
     "output_type": "execute_result"
    }
   ],
   "source": [
    "A_clr = clr(X)\n",
    "A = closure(X)\n",
    "A.shape\n"
   ]
  },
  {
   "cell_type": "code",
   "execution_count": 13,
   "metadata": {},
   "outputs": [
    {
     "data": {
      "text/plain": [
       "-0.37930361376953819"
      ]
     },
     "execution_count": 13,
     "metadata": {},
     "output_type": "execute_result"
    }
   ],
   "source": [
    "pearsonr(A[:,0],A[:,-1])[0]"
   ]
  },
  {
   "cell_type": "code",
   "execution_count": 14,
   "metadata": {},
   "outputs": [
    {
     "data": {
      "text/plain": [
       "-0.99857928315841571"
      ]
     },
     "execution_count": 14,
     "metadata": {},
     "output_type": "execute_result"
    }
   ],
   "source": [
    "pearsonr(A_clr[:,0],A_clr[:,-1])[0]"
   ]
  },
  {
   "cell_type": "markdown",
   "metadata": {},
   "source": [
    "Now let's consider the subcompositon of x with $x_2$ missing so define B = $[x_1, x_3]$. We now get $corr(x_1,x_2)=-1.0$ for both B the closed matrix and B_clr the clr transformed matrix."
   ]
  },
  {
   "cell_type": "code",
   "execution_count": 15,
   "metadata": {},
   "outputs": [
    {
     "data": {
      "text/plain": [
       "(100, 2)"
      ]
     },
     "execution_count": 15,
     "metadata": {},
     "output_type": "execute_result"
    }
   ],
   "source": [
    "B_clr = clr(X[:,[0,2]])\n",
    "B = closure(X[:,[0,2]])\n",
    "B.shape"
   ]
  },
  {
   "cell_type": "code",
   "execution_count": 16,
   "metadata": {},
   "outputs": [
    {
     "data": {
      "text/plain": [
       "-0.99999999999999978"
      ]
     },
     "execution_count": 16,
     "metadata": {},
     "output_type": "execute_result"
    }
   ],
   "source": [
    "pearsonr(B[:,0],B[:,1])[0]"
   ]
  },
  {
   "cell_type": "code",
   "execution_count": 17,
   "metadata": {},
   "outputs": [
    {
     "data": {
      "text/plain": [
       "-1.0"
      ]
     },
     "execution_count": 17,
     "metadata": {},
     "output_type": "execute_result"
    }
   ],
   "source": [
    "pearsonr(B_clr[:,0],B_clr[:,1])[0]"
   ]
  },
  {
   "cell_type": "markdown",
   "metadata": {},
   "source": [
    "Indeed, clr is compositionally coherent and performs the same on sub-samples of the data. "
   ]
  },
  {
   "cell_type": "markdown",
   "metadata": {},
   "source": [
    "Now consider the problem where the matrix has missing values, that are typically coerced to zero values. Here we will generate A which is the same as the X we constructed above (but with more features) and then we will construct B which will be only ~77% filled in (the missing values converted to zero). "
   ]
  },
  {
   "cell_type": "code",
   "execution_count": 18,
   "metadata": {},
   "outputs": [
    {
     "data": {
      "text/plain": [
       "(200, 9000)"
      ]
     },
     "execution_count": 18,
     "metadata": {},
     "output_type": "execute_result"
    }
   ],
   "source": [
    "n = 200\n",
    "t = np.linspace(1, 10, n)\n",
    "x1 = np.exp(t) * 0.001\n",
    "x2 = np.random.normal(size=n) + 100\n",
    "x3 = np.random.normal(size=n) * 10 + 100\n",
    "A = np.vstack((np.vstack((x1, x2, x3) for x_ in range(3000)))).T\n",
    "# subsample\n",
    "mu = A.sum(axis=0)/1.5 * closure(A.T).T\n",
    "B = np.vstack([poisson(lognormal(np.log(mu[:, i]), 1))\n",
    "                     for i in range(A.shape[1])]).T.astype(float)\n",
    "#how dense?\n",
    "B.shape\n"
   ]
  },
  {
   "cell_type": "markdown",
   "metadata": {},
   "source": [
    "First we see in A that the plot is the same as above."
   ]
  },
  {
   "cell_type": "code",
   "execution_count": 19,
   "metadata": {},
   "outputs": [
    {
     "data": {
      "image/png": "[encoded data removed]",
      "text/plain": [
       "<Figure size 432x288 with 1 Axes>"
      ]
     },
     "metadata": {
      "needs_background": "light"
     },
     "output_type": "display_data"
    }
   ],
   "source": [
    "plt.plot(t, A[:,0], label='feature 1',lw=3)\n",
    "plt.plot(t, A[:,1], label='feature 2',lw=3)\n",
    "plt.plot(t, A[:,2], label='feature 3',lw=3)\n",
    "plt.legend() \n",
    "plt.ylabel('Counts', fontsize=22)\n",
    "plt.legend(prop={'size': 15})\n",
    "plt.show()"
   ]
  },
  {
   "cell_type": "markdown",
   "metadata": {},
   "source": [
    "Indeed, we can check the density of B and see that is is missing values."
   ]
  },
  {
   "cell_type": "code",
   "execution_count": 20,
   "metadata": {},
   "outputs": [
    {
     "data": {
      "text/plain": [
       "0.7876222222222222"
      ]
     },
     "execution_count": 20,
     "metadata": {},
     "output_type": "execute_result"
    }
   ],
   "source": [
    "np.count_nonzero(B)/(B.shape[0]*B.shape[1])"
   ]
  },
  {
   "cell_type": "markdown",
   "metadata": {},
   "source": [
    "Similarly, the plot now looks very different even with only ~22% of the data missing."
   ]
  },
  {
   "cell_type": "code",
   "execution_count": 21,
   "metadata": {},
   "outputs": [
    {
     "data": {
      "image/png": "[encoded data removed]",
      "text/plain": [
       "<Figure size 432x288 with 1 Axes>"
      ]
     },
     "metadata": {
      "needs_background": "light"
     },
     "output_type": "display_data"
    }
   ],
   "source": [
    "plt.plot(t, B[:,0], label='feature 1',lw=3)\n",
    "plt.plot(t, B[:,1], label='feature 2',lw=3)\n",
    "plt.plot(t, B[:,2], label='feature 3',lw=3)\n",
    "plt.legend() \n",
    "plt.ylabel('Counts', fontsize=22)\n",
    "plt.legend(prop={'size': 15})\n",
    "plt.show()"
   ]
  },
  {
   "cell_type": "markdown",
   "metadata": {},
   "source": [
    "First we will see if the compositional coherent properties of the clr transform hold in this case. In order to take the clr transform of B we must add a pseudo count of 1."
   ]
  },
  {
   "cell_type": "code",
   "execution_count": 22,
   "metadata": {},
   "outputs": [],
   "source": [
    "A_ = clr(A)\n",
    "B_ = clr(B[:,:-1]+1)"
   ]
  },
  {
   "cell_type": "code",
   "execution_count": 23,
   "metadata": {},
   "outputs": [
    {
     "data": {
      "text/plain": [
       "-0.99815684834238105"
      ]
     },
     "execution_count": 23,
     "metadata": {},
     "output_type": "execute_result"
    }
   ],
   "source": [
    "pearsonr(A_[:,0],A_[:,1])[0]"
   ]
  },
  {
   "cell_type": "code",
   "execution_count": 24,
   "metadata": {},
   "outputs": [
    {
     "data": {
      "text/plain": [
       "-0.21645965322979133"
      ]
     },
     "execution_count": 24,
     "metadata": {},
     "output_type": "execute_result"
    }
   ],
   "source": [
    "pearsonr(B_[:,0],B_[:,1])[0]"
   ]
  },
  {
   "cell_type": "markdown",
   "metadata": {},
   "source": [
    "We see that indeed the pseudo count does not retain the coherent result we saw earlier. This is evident that A has $corr(x_1,x_2)=-1.0$ while B does not.\n"
   ]
  },
  {
   "cell_type": "markdown",
   "metadata": {},
   "source": [
    "Now we will try this using a robust-clr transform, given by:\n",
    "\n",
    "$rclr(\\vec{x}) = [log(\\frac{x_i}{g(\\vec{x})}) , ... , log(\\frac{x_D}{g(\\vec{x})})] = log(\\vec{x_{ij}}) - \\bar{log(\\vec{x_j})} - \\bar{log(\\vec{x_j})}$\n",
    "\n",
    "where $$g(\\vec{x}) = (\\prod_{i\\varepsilon\\Omega_{x}} x_i)^{1/\\Omega_{x}} $$ \n",
    "\n",
    "and $\\Omega_x$ is the is the set of observed features in sample x and $g_r(x)$ is the geometric mean only defined on observed features. \n",
    "\n",
    "followed by matrix completion, given by the following objective function where $Y=rclr(\\vec{x})$:\n",
    "\n",
    "\n",
    "$$ min_{u,v}|\\Lambda(Y-UsV^{T})|_{2}^{2}  $$\n",
    "\n",
    "where U and V are the matrices that are trying to be estimated and S is analogous to a matrix of eigenvalues. Y is the observed values and $\\Lambda$ is a function such that the errors between Y and USV are only computed on the nonzero entries.\n"
   ]
  },
  {
   "cell_type": "code",
   "execution_count": 25,
   "metadata": {
    "scrolled": true
   },
   "outputs": [],
   "source": [
    "A_ = rclr().fit_transform(A)\n",
    "U,s,V = OptSpace().fit_transform(A_)\n",
    "A_ = np.dot(np.dot(U,s),V.T)\n",
    "\n",
    "B_ = rclr().fit_transform(B[:,:-1])\n",
    "U,s,V = OptSpace().fit_transform(B_)\n",
    "B_ = np.dot(np.dot(U,s),V.T)\n"
   ]
  },
  {
   "cell_type": "code",
   "execution_count": 26,
   "metadata": {},
   "outputs": [
    {
     "data": {
      "text/plain": [
       "-0.99815684834238383"
      ]
     },
     "execution_count": 26,
     "metadata": {},
     "output_type": "execute_result"
    }
   ],
   "source": [
    "pearsonr(A_[:,0],A_[:,1])[0]"
   ]
  },
  {
   "cell_type": "code",
   "execution_count": 27,
   "metadata": {},
   "outputs": [
    {
     "data": {
      "text/plain": [
       "-0.98120078757287899"
      ]
     },
     "execution_count": 27,
     "metadata": {},
     "output_type": "execute_result"
    }
   ],
   "source": [
    "pearsonr(B_[:,0],B_[:,1])[0]"
   ]
  },
  {
   "cell_type": "markdown",
   "metadata": {},
   "source": [
    "This reconstructs the trend we saw before where B is again compositionally coherent even with sparsity with approximately ~ $corr(x_1,x_2)=-1.0$. Indeed, in this toy example we are able to approximate A with the robust clr transform in combination with matrix completion. We can show that this even holds for very small subsets of the features."
   ]
  },
  {
   "cell_type": "code",
   "execution_count": 28,
   "metadata": {
    "scrolled": true
   },
   "outputs": [],
   "source": [
    "num_features = []\n",
    "corr_ = []\n",
    "for i in np.linspace(1,int(B.shape[1]/1.2),5):\n",
    "    i = int(i)\n",
    "    num_features.append(B[:,:-(i+1)].shape[1])\n",
    "    B_ = rclr().fit_transform((B[:,:-(i+1)]))\n",
    "    U,s,V = OptSpace().fit_transform(B_)\n",
    "    B_ = np.dot(np.dot(U,s),V.T)\n",
    "    corr_.append(pearsonr(B_[:,0],B_[:,1])[0])\n",
    "    "
   ]
  },
  {
   "cell_type": "code",
   "execution_count": 29,
   "metadata": {},
   "outputs": [
    {
     "data": {
      "image/png": "[encoded data removed]",
      "text/plain": [
       "<Figure size 432x288 with 1 Axes>"
      ]
     },
     "metadata": {
      "needs_background": "light"
     },
     "output_type": "display_data"
    }
   ],
   "source": [
    "plt.plot(num_features[::-1],\n",
    "         corr_[::-1], lw=5)\n",
    "plt.ylim(0,-2)\n",
    "plt.xlabel('Number of features', fontsize=22)\n",
    "plt.ylabel('$corr(x_1,x_2)$',  fontsize=22)\n",
    "plt.show()\n",
    "\n"
   ]
  }
 ],
 "metadata": {
  "kernelspec": {
   "display_name": "Python 3",
   "language": "python",
   "name": "python3"
  },
  "language_info": {
   "codemirror_mode": {
    "name": "ipython",
    "version": 3
   },
   "file_extension": ".py",
   "mimetype": "text/x-python",
   "name": "python",
   "nbconvert_exporter": "python",
   "pygments_lexer": "ipython3",
   "version": "3.5.5"
  }
 },
 "nbformat": 4,
 "nbformat_minor": 2
}
