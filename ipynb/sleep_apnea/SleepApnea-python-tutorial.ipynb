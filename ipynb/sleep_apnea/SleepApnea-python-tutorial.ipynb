{
 "cells": [
  {
   "cell_type": "code",
   "execution_count": 1,
   "metadata": {},
   "outputs": [],
   "source": [
    "import numpy as np\n",
    "import pandas as pd\n",
    "from biom import load_table\n",
    "from gneiss.util import match\n",
    "from deicode.optspace import OptSpace\n",
    "from deicode.preprocessing import rclr\n",
    "from IPython.core.display import HTML\n",
    "#plotting\n",
    "import matplotlib.pyplot as plt\n",
    "plt.style.use('seaborn-paper')\n",
    "plt.rcParams[\"axes.labelsize\"] = 15\n",
    "plt.rcParams['xtick.labelsize'] = 15\n",
    "plt.rcParams['ytick.labelsize'] = 15\n",
    "%matplotlib inline\n"
   ]
  },
  {
   "cell_type": "code",
   "execution_count": 2,
   "metadata": {},
   "outputs": [
    {
     "data": {
      "text/html": [
       "<style>div.cell { /* Tunes the space between cells */margin-top:1em;margin-bottom:1em;}div.text_cell_render h1 { /* Main titles bigger, centered */\n",
       "font-size: 3em;line-height:1.4em;text-align:center;}\n",
       "div.text_cell_render h2 { /*  Parts names nearer from text */margin-bottom: -0.4em;}\n",
       "div.text_cell_render { /* Customize text cells */font-family: 'Times New Roman';font-size:1.8em;line-height:1.4em;\n",
       "padding-left:3em;padding-right:3em;}</style>"
      ],
      "text/plain": [
       "<IPython.core.display.HTML object>"
      ]
     },
     "execution_count": 2,
     "metadata": {},
     "output_type": "execute_result"
    }
   ],
   "source": [
    "#fix font-size\n",
    "HTML(\"\"\"<style>div.cell { /* Tunes the space between cells */margin-top:1em;margin-bottom:1em;}div.text_cell_render h1 { /* Main titles bigger, centered */\n",
    "font-size: 3em;line-height:1.4em;text-align:center;}\n",
    "div.text_cell_render h2 { /*  Parts names nearer from text */margin-bottom: -0.4em;}\n",
    "div.text_cell_render { /* Customize text cells */font-family: 'Times New Roman';font-size:1.8em;line-height:1.4em;\n",
    "padding-left:3em;padding-right:3em;}</style>\"\"\")"
   ]
  },
  {
   "cell_type": "markdown",
   "metadata": {},
   "source": [
    "First, we will import the table and metadata"
   ]
  },
  {
   "cell_type": "code",
   "execution_count": 10,
   "metadata": {},
   "outputs": [
    {
     "data": {
      "text/html": [
       "<div>\n",
       "<style scoped>\n",
       "    .dataframe tbody tr th:only-of-type {\n",
       "        vertical-align: middle;\n",
       "    }\n",
       "\n",
       "    .dataframe tbody tr th {\n",
       "        vertical-align: top;\n",
       "    }\n",
       "\n",
       "    .dataframe thead th {\n",
       "        text-align: right;\n",
       "    }\n",
       "</style>\n",
       "<table border=\"1\" class=\"dataframe\">\n",
       "  <thead>\n",
       "    <tr style=\"text-align: right;\">\n",
       "      <th></th>\n",
       "      <th>sOTU0</th>\n",
       "      <th>sOTU1</th>\n",
       "      <th>sOTU2</th>\n",
       "      <th>sOTU3</th>\n",
       "      <th>sOTU4</th>\n",
       "      <th>sOTU5</th>\n",
       "      <th>sOTU6</th>\n",
       "      <th>sOTU7</th>\n",
       "      <th>sOTU8</th>\n",
       "      <th>sOTU9</th>\n",
       "      <th>...</th>\n",
       "      <th>sOTU599</th>\n",
       "      <th>sOTU600</th>\n",
       "      <th>sOTU601</th>\n",
       "      <th>sOTU602</th>\n",
       "      <th>sOTU603</th>\n",
       "      <th>sOTU604</th>\n",
       "      <th>sOTU605</th>\n",
       "      <th>sOTU606</th>\n",
       "      <th>sOTU607</th>\n",
       "      <th>sOTU608</th>\n",
       "    </tr>\n",
       "  </thead>\n",
       "  <tbody>\n",
       "    <tr>\n",
       "      <th>10422.30.F.5</th>\n",
       "      <td>0.0</td>\n",
       "      <td>0.0</td>\n",
       "      <td>0.0</td>\n",
       "      <td>0.0</td>\n",
       "      <td>0.0</td>\n",
       "      <td>0.0</td>\n",
       "      <td>0.0</td>\n",
       "      <td>0.0</td>\n",
       "      <td>0.0</td>\n",
       "      <td>0.0</td>\n",
       "      <td>...</td>\n",
       "      <td>0.0</td>\n",
       "      <td>0.0</td>\n",
       "      <td>0.0</td>\n",
       "      <td>0.0</td>\n",
       "      <td>0.0</td>\n",
       "      <td>17.0</td>\n",
       "      <td>0.0</td>\n",
       "      <td>1171.0</td>\n",
       "      <td>0.0</td>\n",
       "      <td>0.0</td>\n",
       "    </tr>\n",
       "    <tr>\n",
       "      <th>10422.24.F.4</th>\n",
       "      <td>0.0</td>\n",
       "      <td>0.0</td>\n",
       "      <td>0.0</td>\n",
       "      <td>0.0</td>\n",
       "      <td>0.0</td>\n",
       "      <td>0.0</td>\n",
       "      <td>0.0</td>\n",
       "      <td>0.0</td>\n",
       "      <td>0.0</td>\n",
       "      <td>0.0</td>\n",
       "      <td>...</td>\n",
       "      <td>0.0</td>\n",
       "      <td>0.0</td>\n",
       "      <td>0.0</td>\n",
       "      <td>0.0</td>\n",
       "      <td>0.0</td>\n",
       "      <td>32.0</td>\n",
       "      <td>0.0</td>\n",
       "      <td>549.0</td>\n",
       "      <td>0.0</td>\n",
       "      <td>0.0</td>\n",
       "    </tr>\n",
       "    <tr>\n",
       "      <th>10422.23.F.2</th>\n",
       "      <td>0.0</td>\n",
       "      <td>0.0</td>\n",
       "      <td>0.0</td>\n",
       "      <td>0.0</td>\n",
       "      <td>0.0</td>\n",
       "      <td>0.0</td>\n",
       "      <td>0.0</td>\n",
       "      <td>0.0</td>\n",
       "      <td>0.0</td>\n",
       "      <td>0.0</td>\n",
       "      <td>...</td>\n",
       "      <td>0.0</td>\n",
       "      <td>0.0</td>\n",
       "      <td>0.0</td>\n",
       "      <td>0.0</td>\n",
       "      <td>0.0</td>\n",
       "      <td>0.0</td>\n",
       "      <td>0.0</td>\n",
       "      <td>4.0</td>\n",
       "      <td>0.0</td>\n",
       "      <td>0.0</td>\n",
       "    </tr>\n",
       "    <tr>\n",
       "      <th>10422.27.F.5</th>\n",
       "      <td>0.0</td>\n",
       "      <td>0.0</td>\n",
       "      <td>0.0</td>\n",
       "      <td>0.0</td>\n",
       "      <td>0.0</td>\n",
       "      <td>0.0</td>\n",
       "      <td>0.0</td>\n",
       "      <td>0.0</td>\n",
       "      <td>0.0</td>\n",
       "      <td>0.0</td>\n",
       "      <td>...</td>\n",
       "      <td>5.0</td>\n",
       "      <td>0.0</td>\n",
       "      <td>0.0</td>\n",
       "      <td>0.0</td>\n",
       "      <td>0.0</td>\n",
       "      <td>9.0</td>\n",
       "      <td>0.0</td>\n",
       "      <td>334.0</td>\n",
       "      <td>0.0</td>\n",
       "      <td>0.0</td>\n",
       "    </tr>\n",
       "    <tr>\n",
       "      <th>10422.22.F.7</th>\n",
       "      <td>0.0</td>\n",
       "      <td>0.0</td>\n",
       "      <td>0.0</td>\n",
       "      <td>0.0</td>\n",
       "      <td>0.0</td>\n",
       "      <td>0.0</td>\n",
       "      <td>0.0</td>\n",
       "      <td>0.0</td>\n",
       "      <td>0.0</td>\n",
       "      <td>0.0</td>\n",
       "      <td>...</td>\n",
       "      <td>2.0</td>\n",
       "      <td>0.0</td>\n",
       "      <td>0.0</td>\n",
       "      <td>0.0</td>\n",
       "      <td>0.0</td>\n",
       "      <td>19.0</td>\n",
       "      <td>0.0</td>\n",
       "      <td>908.0</td>\n",
       "      <td>0.0</td>\n",
       "      <td>0.0</td>\n",
       "    </tr>\n",
       "  </tbody>\n",
       "</table>\n",
       "<p>5 rows × 609 columns</p>\n",
       "</div>"
      ],
      "text/plain": [
       "              sOTU0  sOTU1  sOTU2  sOTU3  sOTU4  sOTU5  sOTU6  sOTU7  sOTU8  \\\n",
       "10422.30.F.5    0.0    0.0    0.0    0.0    0.0    0.0    0.0    0.0    0.0   \n",
       "10422.24.F.4    0.0    0.0    0.0    0.0    0.0    0.0    0.0    0.0    0.0   \n",
       "10422.23.F.2    0.0    0.0    0.0    0.0    0.0    0.0    0.0    0.0    0.0   \n",
       "10422.27.F.5    0.0    0.0    0.0    0.0    0.0    0.0    0.0    0.0    0.0   \n",
       "10422.22.F.7    0.0    0.0    0.0    0.0    0.0    0.0    0.0    0.0    0.0   \n",
       "\n",
       "              sOTU9   ...     sOTU599  sOTU600  sOTU601  sOTU602  sOTU603  \\\n",
       "10422.30.F.5    0.0   ...         0.0      0.0      0.0      0.0      0.0   \n",
       "10422.24.F.4    0.0   ...         0.0      0.0      0.0      0.0      0.0   \n",
       "10422.23.F.2    0.0   ...         0.0      0.0      0.0      0.0      0.0   \n",
       "10422.27.F.5    0.0   ...         5.0      0.0      0.0      0.0      0.0   \n",
       "10422.22.F.7    0.0   ...         2.0      0.0      0.0      0.0      0.0   \n",
       "\n",
       "              sOTU604  sOTU605  sOTU606  sOTU607  sOTU608  \n",
       "10422.30.F.5     17.0      0.0   1171.0      0.0      0.0  \n",
       "10422.24.F.4     32.0      0.0    549.0      0.0      0.0  \n",
       "10422.23.F.2      0.0      0.0      4.0      0.0      0.0  \n",
       "10422.27.F.5      9.0      0.0    334.0      0.0      0.0  \n",
       "10422.22.F.7     19.0      0.0    908.0      0.0      0.0  \n",
       "\n",
       "[5 rows x 609 columns]"
      ]
     },
     "execution_count": 10,
     "metadata": {},
     "output_type": "execute_result"
    }
   ],
   "source": [
    "\n",
    "# import the biom table\n",
    "table = load_table('qiita_10422_table.biom')\n",
    "# import taxa\n",
    "taxa = pd.read_table('taxonomy.tsv', index_col=0)\n",
    "# import the metadata\n",
    "meta = pd.read_table('qiita_10422_metadata.tsv', index_col=0)\n",
    "\n",
    "# filter sample to min depth\n",
    "def sample_filter(val, id_, md): return sum(val) > 500\n",
    "def observation_filter(val, id_, md): return sum(val) > 10\n",
    "table = table.filter(sample_filter, axis='sample')\n",
<<<<<<< HEAD
    "table = table.filter(observation_filter, axis='observation')\n",
=======
    "table = table.filter(feature_filter, axis='observation')\n",
>>>>>>> 9e8e8557a5bede73318a0e3fe4a6718457154684
    "\n",
    "# ensure index matches\n",
    "table,taxa = match(table.to_dataframe(),taxa)\n",
    "table,meta = match(table.T,meta)\n",
    "\n",
    "# rename table otus\n",
    "table.columns=['sOTU'+str(i) for i in range(len(table.columns))]\n",
    "taxa['sequence'] = taxa.index\n",
    "taxa.index = table.columns\n",
    "\n",
    "#view table\n",
    "table.head(5)\n"
   ]
  },
  {
   "cell_type": "markdown",
   "metadata": {},
   "source": [
    "Next, we will run the rclr transform and RPCA"
   ]
  },
  {
   "cell_type": "code",
   "execution_count": 11,
   "metadata": {},
   "outputs": [
    {
     "data": {
      "text/html": [
       "<div>\n",
       "<style scoped>\n",
       "    .dataframe tbody tr th:only-of-type {\n",
       "        vertical-align: middle;\n",
       "    }\n",
       "\n",
       "    .dataframe tbody tr th {\n",
       "        vertical-align: top;\n",
       "    }\n",
       "\n",
       "    .dataframe thead th {\n",
       "        text-align: right;\n",
       "    }\n",
       "</style>\n",
       "<table border=\"1\" class=\"dataframe\">\n",
       "  <thead>\n",
       "    <tr style=\"text-align: right;\">\n",
       "      <th></th>\n",
       "      <th>PC1</th>\n",
       "      <th>PC2</th>\n",
       "      <th>PC3</th>\n",
       "    </tr>\n",
       "  </thead>\n",
       "  <tbody>\n",
       "    <tr>\n",
       "      <th>sOTU108</th>\n",
       "      <td>-1.153384</td>\n",
       "      <td>-3.594111</td>\n",
       "      <td>-1.411954</td>\n",
       "    </tr>\n",
       "    <tr>\n",
       "      <th>sOTU59</th>\n",
       "      <td>1.184402</td>\n",
       "      <td>-3.171598</td>\n",
       "      <td>-2.747444</td>\n",
       "    </tr>\n",
       "    <tr>\n",
       "      <th>sOTU139</th>\n",
       "      <td>1.695170</td>\n",
       "      <td>-3.081742</td>\n",
       "      <td>-1.394286</td>\n",
       "    </tr>\n",
       "    <tr>\n",
       "      <th>sOTU464</th>\n",
       "      <td>1.614621</td>\n",
       "      <td>-2.845901</td>\n",
       "      <td>0.800186</td>\n",
       "    </tr>\n",
       "    <tr>\n",
       "      <th>sOTU72</th>\n",
       "      <td>0.214348</td>\n",
       "      <td>-2.717329</td>\n",
       "      <td>1.074596</td>\n",
       "    </tr>\n",
       "  </tbody>\n",
       "</table>\n",
       "</div>"
      ],
      "text/plain": [
       "              PC1       PC2       PC3\n",
       "sOTU108 -1.153384 -3.594111 -1.411954\n",
       "sOTU59   1.184402 -3.171598 -2.747444\n",
       "sOTU139  1.695170 -3.081742 -1.394286\n",
       "sOTU464  1.614621 -2.845901  0.800186\n",
       "sOTU72   0.214348 -2.717329  1.074596"
      ]
     },
     "execution_count": 11,
     "metadata": {},
     "output_type": "execute_result"
    }
   ],
   "source": [
    "#rclr \n",
    "table_rclr=rclr().fit_transform(table)\n",
    "\n",
    "# OptSpace (RPCA)\n",
    "opt=OptSpace(rank=3).fit(table_rclr)\n",
    "U=opt.sample_weights # numpy.ndarray - \"Sample Loadings\" \n",
    "V=opt.feature_weights # numpy.ndarray - \"Feature Loadings\" \n",
    "s=opt.s # numpy.ndarray - The singular values\n",
    "\n",
    "# save loadings as dataframes\n",
    "sample_rankings = pd.DataFrame(opt.sample_weights,\n",
    "                               index=table.index,\n",
    "                               columns=['PC1','PC2','PC3'])\n",
    "\n",
    "feature_rankings = pd.DataFrame(opt.feature_weights,\n",
    "                                index=table.columns,\n",
    "                                columns=['PC1','PC2','PC3']).sort_values('PC2')\n",
    "\n",
    "feature_rankings.head(5)\n"
   ]
  },
  {
   "cell_type": "markdown",
   "metadata": {},
   "source": [
    "Next, we will plot our conventional ordination plot using the PC1 and PC2 axis in sample loadings."
   ]
  },
  {
   "cell_type": "code",
   "execution_count": 12,
   "metadata": {
    "scrolled": true
   },
   "outputs": [
    {
     "data": {
      "image/png": "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\n",
      "text/plain": [
       "<Figure size 432x288 with 1 Axes>"
      ]
     },
     "metadata": {
      "needs_background": "light"
     },
     "output_type": "display_data"
    }
   ],
   "source": [
    "fig,ax = plt.subplots()\n",
    "\n",
    "colors_map=['#1f78b4','#e31a1c']\n",
    "classes=np.sort(list(set(meta.exposure_type.values)))\n",
    "for sub_class,color_ in zip(classes,colors_map):\n",
    "    idx = meta.exposure_type == sub_class        \n",
    "    ax.scatter(sample_rankings.loc[idx, sample_rankings.columns[0]],\n",
    "       sample_rankings.loc[idx, sample_rankings.columns[1]], \n",
    "       label=sub_class.replace('stressed','Stressed'),\n",
    "       facecolors=color_,\n",
    "       edgecolors=color_,\n",
    "       alpha=.8,linewidth=3) \n",
    "ax.set_xlabel(sample_rankings.columns[0],fontsize=15)\n",
    "ax.set_ylabel(sample_rankings.columns[1],fontsize=15)\n",
    "plt.legend(loc='upper center', \n",
    "                bbox_to_anchor=(0.5, 1.28),\n",
    "                prop={'size':22},\n",
    "                fancybox=True, framealpha=0.5,ncol=2\n",
    "                , markerscale=2, facecolor=\"grey\")\n",
    "plt.show()\n"
   ]
  },
  {
   "cell_type": "markdown",
   "metadata": {},
   "source": [
    "Now we can look at the log ratios of the high-loaded features along _PC2_. We will call the largest positive loading $x_i$ and the the largest negative laoding $y_i$. This can only be done for samples who do not have zeros in either $x_i$ or $y_i$. \n",
    "\n",
    "Note: The variation between IHH and Air is along PC2 here so we will need to use the feature loadings from PC2.\n"
   ]
  },
  {
   "cell_type": "code",
   "execution_count": 13,
   "metadata": {},
   "outputs": [
    {
     "data": {
      "text/html": [
       "<div>\n",
       "<style scoped>\n",
       "    .dataframe tbody tr th:only-of-type {\n",
       "        vertical-align: middle;\n",
       "    }\n",
       "\n",
       "    .dataframe tbody tr th {\n",
       "        vertical-align: top;\n",
       "    }\n",
       "\n",
       "    .dataframe thead th {\n",
       "        text-align: right;\n",
       "    }\n",
       "</style>\n",
       "<table border=\"1\" class=\"dataframe\">\n",
       "  <thead>\n",
       "    <tr style=\"text-align: right;\">\n",
       "      <th></th>\n",
       "      <th>$log(\\dfrac{sOTU108}{sOTU467})$</th>\n",
       "    </tr>\n",
       "  </thead>\n",
       "  <tbody>\n",
       "    <tr>\n",
       "      <th>10422.30.F.5</th>\n",
       "      <td>-2.933269</td>\n",
       "    </tr>\n",
       "    <tr>\n",
       "      <th>10422.27.F.5</th>\n",
       "      <td>-2.533894</td>\n",
       "    </tr>\n",
       "    <tr>\n",
       "      <th>10422.22.F.7</th>\n",
       "      <td>4.288174</td>\n",
       "    </tr>\n",
       "    <tr>\n",
       "      <th>10422.25.F.8</th>\n",
       "      <td>-6.371612</td>\n",
       "    </tr>\n",
       "    <tr>\n",
       "      <th>10422.32.F.4</th>\n",
       "      <td>-4.774764</td>\n",
       "    </tr>\n",
       "  </tbody>\n",
       "</table>\n",
       "</div>"
      ],
      "text/plain": [
       "              $log(\\dfrac{sOTU108}{sOTU467})$\n",
       "10422.30.F.5                        -2.933269\n",
       "10422.27.F.5                        -2.533894\n",
       "10422.22.F.7                         4.288174\n",
       "10422.25.F.8                        -6.371612\n",
       "10422.32.F.4                        -4.774764"
      ]
     },
     "execution_count": 13,
     "metadata": {},
     "output_type": "execute_result"
    }
   ],
   "source": [
    "x_i = feature_rankings.index[0]\n",
    "y_i = feature_rankings.index[-1]\n",
    "\n",
    "lrdf = table[table[[x_i,y_i]].T.min()>0]\n",
    "lrdf = pd.DataFrame(np.log(lrdf.loc[:,x_i])-np.log(lrdf.loc[:,y_i]), \n",
    "                    columns=['$log(\\dfrac{'+x_i+'}{'+y_i+'})$'])\n",
    "\n",
    "lrdf.head(5)\n"
   ]
  },
  {
   "cell_type": "markdown",
   "metadata": {},
   "source": [
    "Now we will combine this with metadata and the PC1 from the sample loadings to plot."
   ]
  },
  {
   "cell_type": "code",
   "execution_count": 14,
   "metadata": {},
   "outputs": [
    {
     "data": {
      "text/html": [
       "<div>\n",
       "<style scoped>\n",
       "    .dataframe tbody tr th:only-of-type {\n",
       "        vertical-align: middle;\n",
       "    }\n",
       "\n",
       "    .dataframe tbody tr th {\n",
       "        vertical-align: top;\n",
       "    }\n",
       "\n",
       "    .dataframe thead th {\n",
       "        text-align: right;\n",
       "    }\n",
       "</style>\n",
       "<table border=\"1\" class=\"dataframe\">\n",
       "  <thead>\n",
       "    <tr style=\"text-align: right;\">\n",
       "      <th></th>\n",
       "      <th>$log(\\dfrac{sOTU108}{sOTU467})$</th>\n",
       "      <th>PC1</th>\n",
       "      <th>PC2</th>\n",
       "      <th>PC3</th>\n",
       "      <th>exposure_type</th>\n",
       "    </tr>\n",
       "  </thead>\n",
       "  <tbody>\n",
       "    <tr>\n",
       "      <th>10422.17.F.10</th>\n",
       "      <td>3.555348</td>\n",
       "      <td>0.666141</td>\n",
       "      <td>-0.781473</td>\n",
       "      <td>-1.131213</td>\n",
       "      <td>IHH</td>\n",
       "    </tr>\n",
       "    <tr>\n",
       "      <th>10422.17.F.13</th>\n",
       "      <td>5.602119</td>\n",
       "      <td>0.229238</td>\n",
       "      <td>-0.688088</td>\n",
       "      <td>-1.136050</td>\n",
       "      <td>IHH</td>\n",
       "    </tr>\n",
       "    <tr>\n",
       "      <th>10422.17.F.4</th>\n",
       "      <td>4.922896</td>\n",
       "      <td>0.957254</td>\n",
       "      <td>-1.242962</td>\n",
       "      <td>-1.063683</td>\n",
       "      <td>IHH</td>\n",
       "    </tr>\n",
       "    <tr>\n",
       "      <th>10422.17.F.7</th>\n",
       "      <td>3.951244</td>\n",
       "      <td>1.170595</td>\n",
       "      <td>-0.952217</td>\n",
       "      <td>-1.105984</td>\n",
       "      <td>IHH</td>\n",
       "    </tr>\n",
       "    <tr>\n",
       "      <th>10422.17.F.8</th>\n",
       "      <td>4.812184</td>\n",
       "      <td>1.207802</td>\n",
       "      <td>-0.949669</td>\n",
       "      <td>-1.132583</td>\n",
       "      <td>IHH</td>\n",
       "    </tr>\n",
       "  </tbody>\n",
       "</table>\n",
       "</div>"
      ],
      "text/plain": [
       "               $log(\\dfrac{sOTU108}{sOTU467})$       PC1       PC2       PC3  \\\n",
       "10422.17.F.10                         3.555348  0.666141 -0.781473 -1.131213   \n",
       "10422.17.F.13                         5.602119  0.229238 -0.688088 -1.136050   \n",
       "10422.17.F.4                          4.922896  0.957254 -1.242962 -1.063683   \n",
       "10422.17.F.7                          3.951244  1.170595 -0.952217 -1.105984   \n",
       "10422.17.F.8                          4.812184  1.207802 -0.949669 -1.132583   \n",
       "\n",
       "              exposure_type  \n",
       "10422.17.F.10           IHH  \n",
       "10422.17.F.13           IHH  \n",
       "10422.17.F.4            IHH  \n",
       "10422.17.F.7            IHH  \n",
       "10422.17.F.8            IHH  "
      ]
     },
     "execution_count": 14,
     "metadata": {},
     "output_type": "execute_result"
    }
   ],
   "source": [
    "# merge \n",
    "lrdf = pd.concat([lrdf,sample_rankings,meta[['exposure_type']]],axis=1).dropna()\n",
    "# view\n",
    "lrdf.head(5)\n"
   ]
  },
  {
   "cell_type": "markdown",
   "metadata": {},
   "source": [
    "Now we can plot the scatter plot with taxonomic meaning on the x-axis and the conventional PC2 on the y-axis."
   ]
  },
  {
   "cell_type": "code",
   "execution_count": 15,
   "metadata": {},
   "outputs": [
    {
     "data": {
      "image/png": "iVBORw0KGgoAAAANSUhEUgAAAZcAAAFWCAYAAACl0tAcAAAABHNCSVQICAgIfAhkiAAAAAlwSFlzAAALEgAACxIB0t1+/AAAADl0RVh0U29mdHdhcmUAbWF0cGxvdGxpYiB2ZXJzaW9uIDIuMi4zLCBodHRwOi8vbWF0cGxvdGxpYi5vcmcvIxREBQAAIABJREFUeJzs3Xl8XOV96P/P95xZNKPFkix5xbIxEIJNMF4IEEhJm/wwpARImjbQ383SkND292vTtE3TLbmQdM29N22T3rYJIWnSNiTN0ppAi03ILSTGgcSyY8A2BO+LbFmyNNYy6znnuX+ckTyWtcyMZpW+79dLCJ2ZM/OcOePzPc/zfRYxxqCUUkqVklXtAiillJp7NLgopZQqOQ0uSimlSk6Di1JKqZLT4KKUUqrkAtUugLpQd3e3AI3ouVFqLnKA0Y0bN875brqiXZFrQ3d3t7zyyitvGRwcXJdIJNpd19VapVJzjG3bXiQSGWhra9tz5ZVXPjWXg4zeHdeIV1555S2HDh16o+u6HpCudnmUUuUxOjraNDg4+EaAjRs3frfa5SkXvTuuAd3d3TI4OLguG1iUUnOc67peLBZbl20Gn5M0uNSGxkQi0V7tQiilKicej7fj51fnJA0utSGgORal5pfsv/k5m5rQC5pSSqmS0+CilFKq5DS4KKWUKjkNLkoppUpuziaT1NzleZ586lOf+nAqlWoJBoPxj370o58OBoOTduP+y7/8yw8nk8kF991332dWrFgRq3RZVWWMnec77rjjK5s2bToC8I1vfONN+/btu2XFihV77rvvvi1T7fvkk09eu2PHjrva29uPfuhDH/py7mMPPvjgAwAzfX8me//5Tmsuqu48//zzl6VSqRaATCYT3bFjx5XVLpNS6kJac1F154UXXlgPEA6Hh1OpVPPevXvX33LLLfsne+699977Fcdx7CVLlgxVtpRKzW8aXOYhzyCHvPblvV7zcsdYwYB4mcXW8MnV1sBJS6jpuY4GBwcjvb29VwLcdttt3/rOd77zvr6+vstPnz7dvGTJkuGJz1+5cuVg5UtZ38Tz5LIDB5cvPn16ecBxgk4gkOldsuTkwcsvO2ksq6a/H6p2aHCZZ15yFl9xwF24MWUCLdlNApgT7oJ1L8mSocvts91XB3pfrWYZp7N9+/ZrPM+z29vbj6xfv/7Yjh07Dvb19V2+Y8eOde94xzu2T3z+VDmXz372s+8bGBhYeccdd3zFsizzwx/+8KZYLHZJJpOJvPnNb/7XN77xjS9X9shqw9V7Xrji8lcPbAynUi2CAYMgmEuOn1h39QsvDh244vLul9ZdU7PfD1U7NLjMIz/MdF13zG1d7yEBByviIWGDH10sTMozEtjrLP7ZYRNuvTF47MfVLu9kfvrTn14LcNVVV/0EYO3atbuffvrpyw8cOHAtcFFwmcnevXvXHD58eFNTU1NfZ2fnwVQqFbUsyy1xsevCjdufva7r6LH1lucFAk4mYrteeOwx17ZTlucF1r6092ebh4dbf3jzTTX5/VC1Q4PLPPGis/g1x9zW9S5WQwarCTA2XkLANWC7WA1p7HAQb+SY27q+WVKxWqvB7Nu3b8nw8PAS27bTN9100z6AN7zhDa88++yziXg8vnD37t1d69evP1bIax4+fPi666+//vHbb7+9uzylrg+v2/PCa7qOHlsfcJyGYCbTBBjHthPGslzxPDvgug2264YzweBI19Fj64ebm2Nag1HT0eAyD3gGOegu3OAhgQxWk4VJB3GHhfP5lQBePIPdnMFqEoxzwF24cY3de6CWcjA7d+7cAHDJJZfsjUajGYBQKOR2dXW9ePDgwdfv3r17faHBpaOj49B8DyzieXLZqwc2WJ4XCGYyTZ5lpVOh0DAi4+c+Y0w8nE43Zx93Ln/1wMa9r7v6QD3kYI4fP77uwQcfXDeb1/jiF7/4W6Uqz3yhwWUeOOS1L0+ZQIuDFQHMxMACINntKQLtDlYkZQIth7z25ZfbAyeqVOwLpFIp+9ixY1cDrF+/fnfuYxs3btx98ODB1588eXLNyMjIE01NTXmvh7N69epJe5nNJ5cdOLg8nEq1BJxMBDATAwsAIiYVCg1Hksn2gONEwqlUy2UHDi4/8JorauL7MZ1IJDLY0dEx5U3H8PBweywWWzHdayxdunR/IBCY8nvV09OzxnXd4GzKOddocJkHer3m5QAeEs42hU16tyl+U1nS9YPQ8BmveVmtBJdnn332KsdxItFodODaa689nvvYmjVrTjc3N58eHh5e8uyzz67dvHnz7qleZ6K2trZ5P7By8enTywWD7Xphx7YTFwWWMSLGse1kwHUjghle3Nu7rB6CS0dHx7E8BlFOG1ze+ta3PjnDIMpVrusumE055xoNLvOAY6wgINnk/bTJ6mwOBkAyxgqVv3T52bdv33oAx3HCf/M3f/P+iY+nUqkmgP37968vJLgEg0GndKWsTwHHCWIQADNDZwZjWS6uCwYJZDI18/1QtUeDyzwQEC8DGAEM2NM914CdXRrPBMWrieWWT5482dLf338pQDqdbkyn01MusBSLxVYcOnRo4erVq89WroT1zQkEMmRza+J5034/xh8XjBMM1sT3Q9UmDS7zwGJr+OQJd8E6C5NysRoCePHJmsYMiIvVYGFSAIus4Z7Kl/ZiO3bsWA/IwoULD//mb/7mP031vM9//vO/eOrUqTXPP//8+tWrVz9VwSLWtd4lS05ecvzEOte2UgHXbcgYE5+0acwYCbhug2vbKYPQu3hxTXw/VG3SucXmgdXWwMmwOEMBvAQgGexm4w9vGWey2wEJ4CXC4gyttgZOVqfEOeUyhkOHDq0DuPLKK/dM99y1a9fuATh8+PA613Xn7NrkpXbw8stOpsLhIScQTAASTqebMebCz88YfzuIEwgkUuHw0MHLL6v690PVLg0u84AlmMvts90WxgnijXhIKEWgPYPV6PjjXhpTBNo9JBTEHbEwzuX22e5a6Ia8c+fOSxOJRJtlWZkbb7xx2p5d119//YFgMBhPp9NNzz333BWVKmO9M5ZlDlxxebdnWU4mGByxPC8USSbbg+l0Y8BxGoLpdGMkmWy3PC+UCQZHPMtyDlxxeXc9dENW1aPBZZ64OtD7apcd223jJUO4MQuTdrEiGawmFytiYdIh3JiNSXbZsd21MoByz5491wIsXbr0lebm5mnb+IPBoLdixYqXAF588cX1lSjfXPHSumtePbaya7cTCCRT4XDMte10wHUjwUymKeC6Ede206lwOOYEAsljK7t26wBKNRMxRm8+qq27u7v1qaee+oNkMpks93tNNbcYQFicmp9bTJXXVHOLGYRUOKxzi5VQQ0NDw1ve8pa/3Lhx45zsDq8J/Xnm6kDvq2vs3gOHvPblZ7zmZRljhYLipRdbwz2X1sGsyKq8Xlp3zat7X3f1gcsOHFy+uLd3WSCTCTnBYPr0kiU9hy5brbMiq7xpcJmH/BzMwIlaGSCpaouxLHPgNVecqIcBkqp2ac5FKaVUyWlwUUopVXIaXJRSSpWcBhellFIlp8FFKaVUyWlwqQ2ObdtetQuhlKqc7L/5OTsrtwaX2jAaiUQGql0IpVTlRKPRAWC02uUoFw0uNWDjxo2mra1tj23bej6Umgds27ZaW1v3bNy4cc4OStVBlDXiyiuvfAogFouti8fj7a7raqBRao6xbduLRqMDra2te8b+zc9VOrdYjenu7hagEQ38Ss1FDjA6l2ssYzS4KKWUKjltelFKKVVyGlyUUkqVnAYXpZRSJafBRSmlVMlpcFFKKVVyNR9cROQXReQ7InJSREZEpFtE7q12uZRSSk2tHsZS/A5wGPhtoB94K/CIiHQYY/62qiVTSik1qZof55INIv0Ttj0C3GiMubRKxVJKKTWNmm8WmxhYsnYDiypdFqWUUvmp+eAyhTcA+6pdCKWUUpOru+AiIm8G7gL+bobn3S8iO7M/91emdEoppaAOci65RGQV8Dywwxjz9nz36+joMKtWrSpTqZRSam7q7u7uN8Z0FrNvPfQWA0BE2oEngGPAfytk31WrVrFz586ylEsppeYqETla7L510SwmIlHgcSAE/LwxZs6u3qaUUnNBzddcRCQAfBO4ArjJGHOmykVSSik1g5oPLsDf4w+c/C2gXURuyHlstzEmVZ1iKaWUmko9BJdbs78/M8ljlwJHKlcUpZRS+aj54GKMWVWl92XXsRhP7jtN33CKzuYwt65ZwoauVkSkGkVSSqm6UfPBpRqMMXxx+2Ee3dOD43mkHY9QwGLHwbPctW4Z9918qQYYpZSahgaXSew6FuPRPT3E4mn6R9Lj2zuaQjy6p4cNK9vY0NVW8XJpbUopVS80uEziyX2ncTyP/pE0kZBNWzTIYDxD/0iapoYA2/aernhw0dqUUqqeaHCZRN9wirTjAdAWDRIN+R9TIu2Sdjz6hivfQa1Wa1NKKTWZuhhEWWmdzWFCAf+jGYxniKcdBuMZAEIBi87mcMXLNLE2tay1gUjIpn8kjeN5bNt7uuJlUkqpqWhwmcSta5YQsCw6mkIk0i49sSSJtEtHc4iAZbF57ZKKl2my2lRbNAhQtdqUUkpNRZvFJrGhq5W71i3j0T09NDUExvMbAcvirnXLWL+iteJlmlibyv09WW1Kk/9KqWrS4DIJEeG+my9lw8o2tu09f3HevHZJ1fIat65Zwo6DZ+loCtE/kiaRdgEmrU2dT/6fZDg51qRn+PauE/z865bxwB1XYVlaaVVKlY8GlymICBu6aidJXkhtyk/+n+T4QIJzSb92g4GALXxj53EEeOBta8afW8najdaolJofNLjUiUJqU0/uO81w0uFcMoMAXnbJnoxrAI/HX+zhbeuWsjvbA61SXZu1O7VS84cGlzqSb22qbzg1no/xDNiWYIkfXBzXkHE9/um5oxzqG61o12btTq3U/KEN73OQn9w3kK2xWOIHmbE6gSDs7xmqeNdm7U6t1PyhwWUOunXNEoK2RcD2w0nGNXieQQQQaI0GMVDxrs3anVqp+UObxSqsEgntDV2t/PzrlvGNnccBD8f1qzAGWNAQoCkc4PJFTbzSOwzk17W5FArtTq2Uql8aXCqoUgltEeGBO65CgMdf7CHjeghCazRIc0PQ713W1cqDj+3Lq2tzqRTSnVopVd80uFTQTAnt9V2tgJSkVmNZFg+8bQ13Xrts0t5lxpiKDxStxcGpSqnyEGNMtctQdps2bTI7d+6sdjH4iyf28/1X+zjSH79gtuVE2mXlwght0RAjKfeCWs3YhbdcXYN3H49dEHxWLWzkyNnRsjXZTfae1RycqpSamoh0G2M2FbOv1lwqaLrZloeTDqfPpWhuCFSsm25u1+axJrtHfnSs7E12tTQ4VSlVHhpcKmi6hHYy42FbUvE1ZMY6GPzzc0d4+pU+XM+Qcjws8QOBjkFRShVDg0sFTZfQHk44NIZt4mm3YmvI5HYw6IkliKddMq6HZQnNDUE8Y6q6QNpk5dWpY5SqDxpcKmi6hPYlrVFiiTQDo5mKddPN7WAQS2TwPIPBH2wZT7u0NwZJZryaGIOiU8coVV80uFTQdPODGQMPPra3ot10n9x3Gsf1OJMNHII/FsbxDJZ4nB1NI0hNjEHRqWOUqi8aXCpsqoR2NboGnxlOcWY4Rdr1sEXwch5LuwbLMyxvi9TEGJSJU8dUKiellCqOBpcilKPtvxpryBhjGE05YMCZ0CVdgKZwgNZIqCTBbbaf2XQ97Wqh2U4pdSENLgUqZ9t/Jbrp5l7ku48OksnmWS4uCyxqDvOJO9fOujye5/GJx/fzH9nZAkBoiwbZcbCfu9Ytz+sz06ljlKovGlwKVMq2/0r3fpoYGAdG0+RGlrGcC/iBriFoz6rGYoyh++ggDz72EvtPjWAwmGyPgaFkhgUNQR7dczKvz0ynjlGqvmhwKVCp2v6r0ftpYmDMuB5uTnNYbg3GEjg9lGT38VhRNZfcQZlHB0Zxc1/c+K9/LpmhNRmc9DObLPBu7Gpl59FBnTpGqTqgwaVApWr7r0bvp4mBsT0Y5GQsedHzBH+a/qZw8YnysePrG07hehc/7hm/6W0wnrnoM5sq8NoidLVHOTEYZ9TxaAoHuOe6Lu65boV2Q1aqxmhwKVCp2v7L2ftpqua2MxMCY0PA4vS55AW1irFLtCUgmKIT5WPHF882X01eUP8/Ez+zqQJvOGBxsG+UxS1hggGLtOvxyI+OMZpydJyLUjVGg0uBStX2X67eT8YYHv7BIb724+OcS2SIpx0M8NXnjtIUtkGEjOtx7Gwc4MLmKvzrvYj/2yBFJ8rHjk8EAiI43sXdBgK2ELQv/swmC7x9wynOJTMELOHEYIKg7Qf4Qmp6OsJfqcrR4FKgsVH2W35yEssSzsUzGAyJtMubr2zl2ksW5PU65er91H10kC8+e4SzoykyEyLHaE4tYrq5sI2BoC2MpJyiE+Vjx2eJ4Hje+FLLYyyBgGVxxzUX50smC7wifrB1XEMwYLGstaGgmp6O8FeqsnSZ4wKJCO+/aRWbVrUzmnIYmzClKRyg+1iMLz17hHyWMbh1zRIClkVHU4hE2qUnliSRdmfd++mfnz9KLJG+KLDAWG1k6sAigG35NRcRYemCSNGJ8rHjW9QcwhIZDyyCH1haGoK8a9MKHrhjzUUX9YmBN552SKS98YJHg3bBSyTnNrUd6Y/TE0typD9OLJ7m0T097D4eK+o4lVKT05pLEXYfP0f30UEiQZvRlAsYeodSuJ7Ju4mmXAtn7e8ZwpskgZ4PEb/WYouwbEEDb7hsYdF38xOPbzjpkMx4uJ7hqqUt/N6tr2HDyvZJ952s6dEzhoDtN695xhBPOwXV9HSEf2lpE6OaiQaXIpTiQlWuEfmFLP1mW1zQk8sYsCxhaWsDzQ3BWY0dmc3xTRZ4Xc8P4I0hIZnx6Mn2csu3pqcj/EtHmxhVPjS4FKFUF6pyjMhfu6yFo9lk/Uwm1nCCtkVzQ+mmfBER1q9oxRjG73C37T2NMcx4h7u+q5WXes6xt2cIW4SrVyygtSHIruOxSVfqnKmsOsK/dHQSUZUPDS5FqOUL1btvWMl39/UyXQ/gMWPT6wNEQjYh2+KNV3TwnhtXleTiUMwd7sR9PGMIBSwO9Y1y57ql3HntMp7c13vRssy/+8090zbN6Aj/0tEmRpUPDS5FqOUL1YauNi7taOSV3uFJk/p+0l6wLBkPLAsiQRY1h7n72vzm+crX2B3u4GiKM8NpPONP/xIN2Tzyo2Os72pl44S8y3R3xd/Zc4qNK9v5w9uvKnhZ5nLluOYjbWJU+dDgUoRCLlSVTnyKCG+4bCEjKYfjA3Es8QOJawzG8wcsLm5poDUaIhZP0xYNceWS5rLMvvzkvtNkXJfTQykMfkcBx3iMpBwynsf/evIVHvnADYjI+Of0ycf3cmxglNGUSyRk09kUIpZwLrorLrRpphqzTs9VtVxzV7VDg0sR8r1QVSvxuXntUn54aIBlrZHxC68lQseCEK2REA+8bfYzHeejbzjFcNLBNQZbhIzndyc2+NPL7DoW41e+/GNes7iJlGPYdWyAYwNx4mkX1zOkHY942qM1ErjorriYpplKzDo9H9RyzV3VDg0uRcrnQlWtxOdMNatrL1lA99HBstemOpvDJDPe+HoxlgDZ7s5uduDLT47HOHx2lDNDKcIBi9GU69eygIzrMRhPE0/7d8m5d8XaNFM92sSo8qHBpYyqmfic2NvqNYubec8NK9nQ1Vax2tSta5bwrz8+jm2NjU8534EA/AAzlMxwLpEBgUTGpSFoYXuQyT5/rBvy0taGC+6KtWmmerSJUeVDg0sZVePuerreVruP+aPQC61NFZs32tDVylVLW9h9bBDXmPHAYnJG64+tITO2Le14NIYDkHFJe4aAJURDNq2REHdesxRjDH/xxH5ePj1M33CK5gaboYRDIu1ijKElEqBvOMXLp4f5iyf268C+MtEmRjUTDS5lVI2765ma4l7qOVdQbWo2eSMR4SO3voaPfvsFzgyniKddPM9csCjZWDPZGM9AKuMStC1c4xEN2axa2Mh/v2MNu4/FePCxfTieRyrjYYswlHRoiQRpDFmMpj2Gkw4tDQGOD8Q5M5wsukamI9CVmh0NLmVUjcTnTE1xe3uG8LJX83xqU7PNG23oauPe67rGg1NPLEky45JyPBAmXesl4xocz6UhaBO0Le65rguYvMbV0hDANYbWaIjhVIKWhgBDSYehpFNQOXPpCHSlZk+DSxlVI/E51hRnjCEStDiXyJB2PDKux1AiQzQUmLY21dEUuiDZf7BvhKGkv6BXNBwoOG80sX3+5dPD7O05B0lnvMkQ/Mksjblw+hrXM1gifPX5ozQ3BHHci4PmUNJhVUcUz0BTOMCJwQSWCJGQhTFMWyObqmaiI9CVmj0NLmVUjcRnZ3OYYHaCx9NDKX9siedhDJwdTdMWDSIik9ambBHSruHBx/aO37H3j6TGJ5xsjQSKyhvlts+P1Qo+9/2DDGcDjGWBjWDET+SPN5UZGE46hAMWJwYTNIZt4OIaVyrjcSqWJJ7xe5qJQMrxMB54xpDKXFjOmWomZ4aTOgJdqVnS4FJmlU583rpmCd/d14sIuK7BzdYFBL8mEE+7/MxrFtE9yVr0G7ta6T46QCx7IQW/O7AIuMbQP5JGRArKG01eQ1jM77zlNfzVUz8lng1SYgmeZ8YDY3NDgM7m8PhFPRqy/W7NXFzj8owh5fgJfWP8ZrWM63d9NtnHc8s5U81kYWNIuzkrNUsaXOaYDV2tLG5poCeWwBGDBQQsGV9xMhy0CdnCJ+5ce1Ftatve0zieyd6xW0SCNn3DadKuv9jXSMrJri4peeWNpqsh3LluKb/6xtV854VTF9SSEhmPgEBnc+iCi3pD0B8DM1mNayTlsCASpHc4dUHzmjfFomcz5aUG42nt5qzULNVFcBGRy4HfA24ArgZ+YIx5U1ULVaNEhCULGljYFKJ3KEVD0KIhaBMOWAyMZrIX8fSktal/ee5o9o7dIEYYGM0wlgUxxl/vpTEcoLM5RNC2Z8wbzTRP2CfetoaNq9rHg9zBvhHOJTL0DqUYjDvA+VpSc0OArvYoIyn3ohpXa8Qwksxgi2Bn50xzjcFx/ZzN0gUN4+U0xvDy6SFOxZKkHY9wwM/N5M4CsKi5gYHRtI5AV2oW6iK4AGuBtwLPAaEql6XmLWoO0xIJMjCaIRSwWRAJ5nXnPdZ12jMQS/qBJbc3V8ASXM/w2iUtec2cPOMg0n29/OHtV42/TvfRQR58bC9utvaUe1EP2jYfufVKRGTSGtf3X+0jYMn40srxjIttwdIFDbzhsg5EBM/z+OTj+/jR4QFSjodnYCjpr3Rp2xYmOybotUua6WwK6wh0pWahXoLLY8aYRwFE5FtAR5XLU9OK7QI9tl8oYJFOOePjTwKWZKfn9xcSW9zSkFcOqdBBpDP1rtvQ1Taew8plDOw4eJbO5nC2huTPZba4NTy+6Jkxhk88vp9v7DxBxjXjyy57BtKuAddlUUt4/PNZv6JVR6ArNQt1EVyMMUUu3Ds/FdsFemy///1fBwhaFhnXI2hb2NlR8qPZnMtMCe2xJP7BvhH6R1JkXC97gTbZ5q7Ja1DF9q7L53h3HYvxHy/6uR/HMxe9RtD2OxSMPV9HoCs1O3URXFRhir1Ij+33Us85fvBqP7F4BsuC9sYgiYyfyJ8poZ2bxB9KZkhm/N5mwyl/ipaA7Y+lSTsevUNJfucbP7lo9HuhF/V8jtef/t/DyfZsCNp+E99YnBER1i5bwAfeuDrv960knTFA1Zs5G1xE5H7gfoCurq4ql6byir3zFhHefcMqDvaNEg3Z9I+ks4n9/BLauUn8vuEUrmdwjT9HmIiwuCVMKuORcV1ePj1ExjV5jX6f6eI60/H6tS0Zn8zMM/6iaZ7rT0cTCfq5llpkjOHh7Yf4+o+PE4tnSGU7Ijy1v5d7rlvBB25erQFG1Zw5G1yMMQ8BDwFs2rTp4nYQNaXZzCyQm8SPhgO0RgL0j6SJp12iIYtAtpkt7XgcPZsY32+miTNnOx1LZ3OYtmiQoWQGS/wxP2MrQQdsIWjXbi+wXccG+dL2I/SPpvwmPQOjab8zwpe2H2FjVxsbJqzoqVS1zdngooo3m5kFJkviiwg9sSQdTWEswA5Y9MSSeY9+n810LGM1ntNDSWLxDCHbyo7VAYwfWAKWxR2vq91eYP/83FEG42kc15yfHseA4xoG42n+6bmjGlxUzdHgoiZVbLPaTDNBO64pePR7sevi5NZ4Mq47PgYmaFtYll+ekG1xxzXLeOCONTXbtORPNuqPOLLEL3/G9btSe8Z/XKlao8FFldRM3aCvXNzIK73DQP6j34tdF2dijWdsephwwG+ae9OVnXmN16m2i0KemeFxpWqAVe0C5ENEoiLyThF5J7Ac6Bz7W0Si1S6fOm8sX9MaDbGqI8qy1gZWdURpjYS4a90y3n3DSgKW32MskXbpiSVJpN1pOwtMrA3F005eg0In1niWt0VobAjgZFe2zHe8TrVdtawFy/KDiD8uxxtf1dOyYM2ylmoXUamL1EvNZRHwzQnbxv6+FDhS0dKoKc2UrzHGFNxZoNhBoaVYCbQWugC/+/qVPH9ogLNearwrteDni1ojId59w8qKlKNSauEzV7NXF8HFGHMErf3XjenyNcV0Fii299psVwKtlUXDNq5s476bVvH1nRd2RW6NBrn3uq66qH3lGzBq5TNXs1cXwUVVR7nuIAvtLFBs77XZrgRaK4uGiQgfeOPqCyb5rKfpaAoJGLXymavZ0+CiJlVrd5DF9F6b7UqgxfZSK4d6no6mkIBRS5+5mh0NLmpSc+EOcrYrgZYiZ6MKCxj6mc8dGlzUpObKHWSxd/zGGDxjiMUzpF2Pk7EECxtDJDJ+01ooYNHZFCK1s5vEtm14vWewFi8isnkzoY0bNC+Qo5CAMds8maodGlzUpOrlDrIceaGxJsEXTpxjNO0gQMrx6DmXJGAJS1oaCIhw94vfJfb0NnBcTCqFhMOktm8nevfdNN3/QQ0wWYUEjNnmyVTt0OCiJlUPd5DlyguNNQmmHRfH9Sfv4lH5AAAgAElEQVTeJDvRpZ2dGfq90UHa/3MbXiyG19c/vq/V2UF8yxZCmzYR3rihlIdbtwoJGLPNk6naocFFTaoe7iDLlRcaaxI8O5qhuSFANGRzdjRNxjE0hgO8bvkC3nJgB0nHJXOmn3QgxGikmcbEMKEz/YSamkls3arBJauQgDHbPFmhdExN+WhwUZOqhzvIcuWFcpsE2xtDREMBGoI2PbEkrdEglghuby+x2AhBx2UgGiVlBUmHorQnE8RjI3T29pb6cOtWoQGjUj3jaq1H5FyjwUVNqtJ3kMUoV14onybB/oYFDDpCJ0I0PowTNkRSIxiEQUeQyAIWzvYA55Ba7Eo9F3pE1jINLmpKtXhByFWuvFA+TYLfP7iOq6ynGWxopi05RMQZwAADkRZcy+L7K67lytkfoiqjudIjslZpcFF1q1x5oXyaBP+lczWDV97Ipr3Pko5ECbsOKTtAygg7r7yR052XlvJQVRnUS4/IeqXBRdWtcuWF8mkS7Gxp4L+ufyvPtXRxy/E9LEkPcTrUwjMr1pFY8zp+pqWhlIeqyqAeekTWMw0uqm6VMy80U5PgWK2pb/VVfG7RZePbO5pDtNZIbzo1vXroEVnPNLioulatvFA99KZT09NzWF4aXJQqQj30plPT03NYXhpclCpSrfemUzPTc1g+GlyUKoIxhnT3Lp20UqkpaHBRqkDGGEYe+gLxLVt00kqlpqDBRakCpbt3Ed+yRSetVGoaVrULoFS9SWzzp9n3+vqRaARr+TIkGvEDjeOS2Lq12kVUquq05qJUgbzeM5iUP3pb2tqwolE8AyaewKRSeL1nqlxCpapPg4tSBbIWL0LC/uhtMzjoB5bYIAASDmMtXlTN4ilVE7RZTKkCRTZvhoCN1dmBiSfwenow8QRWZycEbCK33VbtIipVdVpzUapAoY0biN59N/EtW7Camsd7ixGwid59N6EN66tdRKWqToOLUgUSEZru/yChTZtIbN16fpzLbbdpLzGlsjS4KFUEESG8cYMGE6WmoDkXpZRSJafBRSmlVMlpcFFKKVVyGlyUUkqVXF4JfRGJAr8ALAL2At81xrgTnrMa+Jgx5v0lL6VSquyMMew6FuPJfefXNrl1zRI2dLXqRJyqYDMGFxFZCjwLrALiQBR4RUTebYzZmfPUTuC9gAYXpeqMMYYvbj/Mo3t6cDxvfFXGHQfPcte6Zdx386UaYFRB8qm5/AWQAq40xrwqItcAnwG+LyLvMcZ8q6wlVEqV3a5jMR7d00MsnqZ/JD2+vaMpxKN7etiwsnYW1NIaVn3IJ7j8HPARY8yrAMaYF0Tk54C/BL4uIr9njPnrchZSKVVeT+47jeN59I+kiYRs2qJBBuMZ+kfSNDUE2Lb3dE0EF61h1Y98gksb0Ju7wRhjgN8XkaPAZ0VkBfDNMpRPKVUBfcMp0o4HQFs0SDTkXxoSaZe049E3nKpm8cbVUw1rvsunt9hB4PWTPWCM+XvgXcCvA39XwnIppSqoszlMKOBfDgbjGeJph8F4BoBQwKKzOVzN4o2bWMNa1tpAJGTTP5LG8Ty27T1d7SKqrHyCy3eBD4rIpM81xnwbuB1YXcqCKaUq59Y1SwhYFh1NIRJpl55YkkTapaM5RMCy2Lx2SbWLCExew2qLBgFqqoal8msW+zTwNNAEDE32BGPM0yJyA3B96YqmlKqUDV2t3LVuGY/u6aGpITCeywhYFnetW8b6Fa3VLiJwcQ0r93ct1bBUHsHFGHMa+I88nvcy8HIpCqWUqiwR4b6bL2XDyja27T3fC2vz2iU1lcO4dc0Sdhw8S0dTiP6RNIm0P9yu1mpYKr9xLguBh4CHjDHbpnjOZuB+4NeNMbrGq1J1SETY0FXbCfF6qWGp/JrFPoyfT3lymuc8iT8e5neB3y9BuZRSc0ipxqbUSw1L5Rdcfgn4q2z340kZY4yIfB74bTS4KKVylHpsSj3UsFR+wWUlsC+P5+3HnyJGKaXG6diU+SmfrsgJoCWP5zVln6uUUuN0bMr8lE9w2QXcmcfz7so+VymlxunYlPkpn+Dyd8B9IvLeqZ4gIu8BfgX436UqmFJqbqiX0f+qtPIZ5/JvIvIZ4B9F5DeArcAxwABdwGZgE/DXxph/L2dhlVL1R8emzE95LRZmjPldEXkav1vyR4CxW40U/lovdxljHi9LCZVSdU3HpsxP+a5EGQFCwH8CXwKeyj501hjjlKlsue+/Bvhb4EYgBjwMfGLiaphKqdqjY1Pmp3xG6K/GDyarcjafA95ljJluYGVJiEhb9v334XcauAx/vjML+Fi5318pNXs6NmX+ySeh/z8AD3gj/hLHa4GfAJ8vY7ly/RoQAd5hjPmuMeZzwCeA3xGRfLpIK6WUqrB8gsuNwMeMMc8aY5LGmP3ArwJdIrK0vMUD/On8txljcmdk/jp+wLmlAu+vlFKqQPkEl6XAoQnbDgICVKKbx2uZMNuyMeYYEM8+ppRSqsbkE1zA73ZcLW34SfyJBrOPTUpE7heRnSKys6+vr2yFU0opdbG8eosB20Rksl5h35u43RizaPbFushkwU2m2D5Wjofwlwpg06ZN1QyOSik17+QTXD5R9lJMbxCYrCP8Aiav0SilZmCMId29i8S2bXi9Z7AWLyKyeTOhjRsKmqFYqankM0K/2sHlZSbkVkRkBdCIrnypVMGMMYw89AXiW7aA42JSKSQcJrV9O9G776bp/g9qgFGzlm/OpZqeADaLSHPOtnfhz8D8THWKpFT9SnfvIr5lC14shnP4MG5PD87hw3ixGPEtW0jv2l3tIqo5oB6Cy+fwp5n5NxF5i4jcDzyIv4DZ0LR7KqUukti2DRwXr68fiUawli9DohG8vn5wXBJbt1a7iGoOyDehXzXGmEEReTP+jMuP4edZ/ho/wCilCuT1nsGk/Gnupa0NKxrFM2DiCUwqhdd7psolVHNBzQcXAGPMPuDnql0OpeYCa/EiJOzPPWsGB/3AEhsEQMJhrMXl6PCp5pu6CC5KqdKJbN5Mavt2rM4OvL5+TNxfQNbq7ISATeS226pcwvwYY9h1LMaT+85PhnnrmiVs6GrVDgk1QIOLUvNMaOMGonffTXzLFqym5vHeYgRsonffTWjD+moXcUbGGL64/TCP7unB8bzxafx3HDzLXeuWcd/Nl2qAqTINLkoVqJAxIrV4dy0iNN3/QUKbNpHYuvX8Mdx2G+GNG0r6XuUaT7PrWIxH9/QQi6fpH0mPb+9oCvHonh42rNQZmKtNg4tSBShkjEgt312LCOGNG0oeTHKVczzNk/tO43ge/SNpIiGbtmiQwXiG/pE0TQ0Btu09rcGlyjS4KFWA3DEiXl//+Hars4P4li2ENm0av2DP97vrQj6rQvUNp0g7HhjDptgRrt+9m6ahAU7YTbxy9fX0LW6e+UVUWWlwUaoAE8eISFub3+Oqrx+rqZnE1q3jF8z5fnddyGdVqM7mMCFb+IWXvsubD/+IEAY7k2axFeD6vp/S757G/NK1mnepIg0uShWgkDEi43fXQFs0SDTk/3NLpF3SjkffcKryB1BB5RxPc+uaJZx65ofceuTHRBKjtCaH8MOIMNy4gOUvbCe9a3dZm/1qTa3l9zS4KFWAQsaIdDaHCQX8STAG45kLfocCFp3N4UoWveLKOZ5mQ1cro7GXCeLRnhomFQwzEmmiOTlCW3KIBqtjVjWjelOL+b16mP5FqZoR2bwZAjZWZwcmnsDr6cHEE5OOEbl1zRIClkVHU4hE2qUnliSRduloDhGwLDavrcRae9VTyGdVKBFhbSjF0gYLWyDTtIBwcxORzoUELYF5NtNAbn7vSH+cnliSI/1xYvE0j+7pYffxyk8gr8FFqQKMjRGxWlsJXHop9rJlBC69FKt1wUVjRDZ0tXLXumW0RkOs6oiyrLWBVR1RWiMh7lq3jPUrJltJYu4o5LMqhr14MZGmKEHbotOLsyjgERrxpxucbzMNTMzvLWttIBKy6R9J43ge2/aerniZtFlMqQIUMkZERLjv5kvZsLKNbXvPt4NvXrtkTifyx0z3WYU2rJ/1+Je5MtNAKdRifk+Di1IFKmSMiIiwoWtudzmezmSfVanGv8yFmQZKpRbzexpclCojXfHxYqUa/1LqmQbq+VzdumYJOw6epaMpRP9ImkTaBahqfk+Di1Jlois+Tq6U419KNdNAvZ+rsfzeo3t6aGoIjPcWC1hW1fJ7GlyUKpNyjlCvB1PVBNzTvTW3nky9n6tazO9pcFGqTMo5Qr3WTVcTkKZmCIX859XIejJz4VzVWn5Pg4tSZTKfV3ycriYgo3FM9v9rpZfXfD5X5aLBRakymc8rPk5XE7AvvRS7dQFmZKRmennN53NVLhpclCqT+TwOY7qaAKkU9tKlNL33vWVfTyZflTxX9dwrrRAaXJQqk/k8DmOmmoC9eHHZ15MpRKXOVb33SiuEBhelyqSSKz7WmkrVBEo1E3ClzlW990orhAYXpcqoEis+1qJK1ARKPRNwJc7VXOiVli8NLkqpkqtETaCSK32WqoY0n3qlaXBRSpVFuWsClVrps5Q1pPnUK02n3FdK1aXJZgJuiwYBSjoTcCnXSinnGje1RoOLUqouTZwJOJ52yjITcCnXSin3Gje1RJvFlFJ1qVIzAZdyrZT51INQg4tSqi6NzwT8k5Ncc/Yw17zyY9rj5xhqbmPBW2/j2ksWlOR9Sr1WynzpQajBRSlVtJlGm5dzNLqI8P6bVnHTjsdI/+BR3IxD2MsQTfcR/dYRRp3TRQ9KzC33Ow8dZ1FMeLbrWn7YtKIm1kqpBxpclFJFmWm0eeMHP8DoFx4u62j0zK7dtD+9Dc8k8QazgxLPncWbxaDEicfVnEpxoyO89shLXH3VG/iP9ZsJBe2qrpVSDzS4KKWKMtNoc2lqKng0eqE1nXIMSpzsuBYA0bZ23nzoR7jXXIuzZl1Ba6XMl/nEcmlwUUoVZaYL++jXvlbQhb+YebfKMShxquMKDg6w5NIFfDBziNbb78n79ebTfGK5NLgopYoy04XdjIwgweCUj0+88Bcz71YpByUaY0h1dzP4xJOYU6ew02kSkWbCdpiG1raiA9Z8mk8sl45zUUoV5aIL+2j8wgv7wvbpH59w4Z9YY7CWL0OiEf+C7Lgktm69qAylGpRojGH4oS9w8Lf/gERvH5JJI55HZLCf+PETxM/0T1numRRzXHOBBhelVFFmurA33ntvQRf+yWpC0urnNKaqMZRqUGK6exdn//XbmDNniCZGCLgOgkGMR3N8GEnEybS1FzWKvpjjmgu0WUwpVZSZZj6O3nsPZmQk75mRi2niKtWgxMTWrWRO99IyGsMz4IlgGYMArgjJYIRMMMrCIkbRz6f5xHJpcFFKFSWfC3shF/5i1oCZshdWgQEgs/9lQqNDYIzfnGPAAAIIhmQwzPfuvp/f+9X8E/mzOa68jrHGe5ppcFFKFW2m0eaFjEYvdA2YUvbC8s7FQATBDyqOZRPw/MGSjhVgpLEF53XrirrQz2Ztm3ruaabBRSlVEwpt4iplLyxrQSu2+IEFhIDn4ddZDJbxaI4P8c5vfoa+Lw3i9fZCOAx5Xuhn03RXzz3NNLgopWpGITWdUg6gDFz1Wuz9+3HPnMFDxnMuljGIMSxIxwk9+wzpRAKMAcsa72adz4W+2PnE6nnlSg0uSqm6VMoBlNHbbiO1fTtgoH8AMR4G8CwLGwgk435QGX9zD6JRJBjI+0JfTJNaPa9cqcFFKVWXStkLK7RxA41vfzvxLVuwF3b4F+5YDG94GDIZELkwuAAmHsdasjivC32xuZN67mmm41yUUnWplKs6juVFWv/0Twm/6RZC116LtXAhEgr5TzDGDzC5PA+3/6y//wwX+tzciXP4MG5PD87hw3ixGPEtW0jv2l32Y6w0rbkoperSVL2wjG0R2riJxBNPMPqVf8q76+7EvEjsz/6c0a8+4j9oDNg2uO75HTwPMhms5ctnvNAXmzuZTU+zatPgopSqS5P1wpJFnZBKk97541l13TXGEFi5EpNOn9+YG1gAgkGslpa8ZgMoNndSzytXanBRStWtibWN1M5uYh//+Ky67o7lR0b//d+RhgZMMjnhTYFQGIlECN9yC03ve++Mrzmb3Em9rlypORel1Jwx2SSRBIO4Padwjh4j9sADpHZ2YyYk53ON5UfMuXOYeBysnMukCBJtJHDJJTR/6Ddp/+zf5HXRr+fcSbG05qKUmjMmNj8xGvf/dl1MPI5z6DCxj3+cyF13Edq0keS2Jy/qFpwboKymRowBE4v5ORYRjOuOTw2Tr3rOnRSr5oOLiLwLeBdwI7AE+BVjzJerWiilVE3KbX7yzvT5gSWT8RPyjoMZHcUdHGTk4YexvvY1JBS+KC/j9vaeD1ANEczAAGYsT+N5kEyS6elh+B/+AWlqovGX750xj1PPuZNi1XxwAd4JrAIeBz5Q3aIopWpZ7iSRbs8pPwmfHVFPMIiEw37i37JwR0bBccb3HcvLBC6/YjxAuWfP4jouVjaZPzY9DIkkGcdl6H/+L8zISF4dBeo1d1Ksesi5vMsYswH47WoXRClV23LXd5HGRggE/PEpwSBWexvS0QGeh/E8zOgoBAMQDmNcF7fnFN7QMMZ45/MjmQySDUDnszTGX+slk8HJLikw1TiV+azmay7GGK/aZVBK1Yfc5qfYAw/gHDqMGR1FwmEk2uj30DJmfLS9SaXPj753XdxTp5DmZqJ330Xi0UdJDg4RiI9mFw/zmbEfEUinx1eTrHaNpNam5q/54KKUUoUYa35qffDBC7olez09/uPRqJ9TMeZ8Pmas95jn4Z0+TXjTJsLXXceeT/w1K/bupMFLYBt3PMA4VgAELJGamOOrFqfmr4dmsaKIyP0islNEdvb19VW7OEqpCptyCeRFnf6MxoGAn6AfCyyWBa6DNDWR2LaN8MYNdP/aH/LEDXeSCIbxJPdyafDEwli2Xyta1OmPsfmzP2fgQx8m9md/PmOX51IqdnqZcqp4zUVEFgBLZ3qeMebl2byPMeYh4CGATZs2VeYMK6VqxlQ9tBo2b+bcxz9O5pVX/CaxQACxbT8QeJ6f7O/tJbWzm3f81xb69v+QAF52ITFBMAQ8Dw+gswNjW5BKE/v4xy+qNYQ2bfJzOmf6kEWdBFetwjlyBO9MX0mbrWpxav5qNIv9IvCFPJ5Xm8urKaXqxlQ9tJI33YQ3PIJ7/LgfYBoaEONBOgPhMO6pU8Q+/nFahoZpGOjBc12sbPrXIHiWhQQChKIRwpuuI73zxxfNCkA4jPPqAazFi8GyMKOjxIeGkJYWrKamkjZb1eLU/BVvFjPGPGyMkZl+Kl0updT80XDbZsSykEjEH2A5MoJJprA6OyCVwu09gxeL4Z44ge1kCHguRgTXtjGBALZAsLmJ0Lp1SKRh0lkBzNA5jOPgnjiBe+IE3pkzmHQar+8MzokTJW22umh6mdF41afm14S+UmpOmqr3VHDDetI7u/Hio35C37b9HUQg42BdcgneYAy3p8fPw4ggmQxiDHYwCA0NkEr53Z1FJq81WJbfpcxx/PE10ShmeNgfd2PbSCSC2FbBzVZTHVPD5lvHx/d4ff2YeAKgqtPL1HxwEZE1wBqgIbtpk4iMAH3GmGeqVzKlVK2arvdUaOMm0t07IRAYz7NgjH/nH436v7OzIUs06k9c6ThgDMZ1IR5HbPuCGsH4rAADA5hEEjM0dL6jQCjkv49l+cHFshBAWtsKaraa7pgid91F5O67SdTQ9DI1H1yAXwIeyPn7/8/+PAO8qRoFUkrVttzeUxNnR048/hjS1IzpP4vV1Die/DbxBFY4jBeLjQcLPPf8QmHZKWSwbawlS87XCIwhtX070rEQ79RpzGDswlUr43EIhc5P2e/5SyhTYLPVtMf06KMs+JM/IVxD08vUfHAxxjwIPFjlYiil6sh0vacIhfAGBvyLvethsqtJGtfFSyYJLFqEN3DWn0LmTN/5KWSCQbAEe9lyrOamC2oE0bvvZuSrX0UCAT9wjO0D/u+xcTW2DcbDJBJgWQU1W83UIyy5bRutf/xHVR/MOabmg4tSShVq2t5T4F/sMxk/D2JZftNYdkoY+7VX0rBo0fgMxl4ymX1sBHvpUsI33UTk9tsvuIg33f9B0i/tJRU758+gHA4joZA/xYzn+YEpEECMuaC3WCHNVrXYI2w6GlyUUnPOdItzWZEI3ujo+RzIWHOVbWOGhgitvozGX74nrxmMcxPs6Z07/ZyMbWO1t/vBK5OBZBKxbexLltP0gQ/iHDk86WvONH3LbBYcqwYNLkqpOSd3duSJvae8eByrpQUvNug3U43VXIyHtLTgHD6U1wzGExPs3tCQ39yVyeCdOuXPADA2m7IxWB0dNP7yPZOOZ5m2A0J2IKaz/2XcvjNISzPeuSGkBnqETUeDi1JqzplucS6rdQFmNI43Oup3CSY7EWUigdXUhHdm6umiPM8j/sjXGP3613F7TmGGhpBIBJNIYDzP72U2lmvJZM7vmE6TeeFFBj70WzS9970XjcpPdXcz+tVHcM+c8Ve/FBnvsjw2EFNsGyy/dmUtWIA0NmI1NNTsgmMaXJRSc850i3Mltm4l9fQz/iBK20Ja2/yeW5Y1bfOS53kMvP8DpLZv9wNJdtJLk0hAMIjd1YV79OgFa8Rg237txfMwqRSpZ76Pc+DABaPyjTEMfep/4Jw86eeCsoGFTAaTTkMggHvihD8fGiAtLeB5BLq6CK65qmYXHNPgopSak6Zs2sp2HS50wGH8ka/5gSWdPp+nGZPNrdDQAKOj53uGiYBtgesHI29wEJNOM/TZvyX90l6a3vseDIbMvv3jY2nGZ2vOlnVsIKa1fJnfZXpoiMCllxJccxWtf/xHpf7YSkaDi1JqXil2PfvRr3/dr7G4rh80RPxcTZbb3+9vg/O/LQvS2ZqMbfs1mJERCAZJPfMMzoFXkaam8zWcsX3g/Gsbg0SjNd87bCINLkqpeaXY9ey9swPnL/hjK1yOrQcDfr4lFPJXtwRw3PM1kGxgGe+hlsn4gzUbo3jHjp8fHxMIZAduTnxzrybmCyuEBhel1LxTzHr21sJ23N5e/4/sSP3xwCICoRCByy7zm64wmFTar6VkMhcGFsgOyLSyAyKjfo1o7PUCwQvzNqGQP+FldrGzWu0dNtGcXSxMKaVKqfGeexDLOh8ExgJAdltw7Voa3nQL7Z/7BxZ+/vM0vOkWJBr1m71ym9Cy68fYHQsBkIYGxPOwli45v4CZCNLUhNXejn3JJQRXrz6/2FnrgprsHTaR1lyUUioP0V++l+RT3zvfWyxbGxHLInzzzbR/6WEs6/z9emjD+vGxK+7JHrzh4fFmNIlG/V5m+L2/7JUrMSPD2M0tF+SAInffTWjjRpK5AytrtHfYRFKpZTiradOmTWbnzp3VLoZSqs55nkf8a//K6NcewTs7gLWwncZ7f5mm//feSZ9vjCG9azcjX/4yqf/zX3iOc36esbFE/aJOWj/9aSzLqplJJ8eISLcxZlNR+2pwUUqp8jLGMPz5hxh5+GHMYMyv+QBYFnZbG40f/ADNs1yNshxmE1w056KUUmUmIoQ2bcRqbPST+dmBlf5sywESJViNstZocFFKqQpIbnsSCYXBcbBaF2CvWonV1OgvA+C4JLZurXYRS0oT+kopVQH1NmX+bGlwUUqpCqi3KfNnS5vFlFKqAiKbN/uzMnd2YOIJvJ4ef2nlOhkUWSituSilVAUUO6dZvdLgopRSFVDsnGb1SoOLUkpVSDFzmtUrzbkopZQqOQ0uSimlSk6Di1JKqZLT4KKUUqrkNLgopZQqOQ0uSimlSm5eTLkvIn3A0RK/bAfQX+LXrCY9nto1l44F5tbxzKVjgYuPZ6UxprOYF5oXwaUcRGRnsesc1CI9nto1l44F5tbxzKVjgdIejzaLKaWUKjkNLkoppUpOg0vxHqp2AUpMj6d2zaVjgbl1PHPpWKCEx6M5F6WUUiWnNRellFIlp8FFKaVUyWlwUUopVXIaXJRSSpWcBpc8iMgqETFT/Lwyw74PTrFf1RbMFpGnpyhTQx773iQiz4tIQkQOi8iHKlHmacrTIiKfEJEficg5ETktIv8uIq/JY9/3TfE5/FqFyr5GRL4nInER6RGRT4qIncd+C0TkH0VkMHvMXxWRhZUo8zRl+kUR+Y6InBSRERHpFpF789hvss//uUqUeYZyFfXdqNFzM9W/dyMiN06xz1TXvK/n+766EmV+TgETT0IEeBJ4Io/9zwETg8n+EpRrNv4L+KMJ21LT7SAilwPbgMeBPwReD/yViMSNMQ+XpZQz6wI+CHwR+GMgmi3b8yJyjTHmeB6v8XNAIufvQyUv5QQi0gY8BewD7gIuAz6Nf8P3sRl2/1fgSuADgAd8CtgCvLFc5c3D7wCHgd/Gnz7krcAjItJhjPnbGfb9NPCtnL+Hy1PEohT63ajFc/P/AS0Ttn0SWA/8eIZ9PwI8m/N3/lPdGGP0p4gf4BcBA1w/w/MeBPqrXd4JZXoa+FYR+30e+CkQyNn298Bxst3aq3AsjUBkwrZ2YAR4YIZ935c9h01VKPcfAoNAS862jwLx3G2T7Hdjtsw/k7Pt9dltb6nid6pjkm2PAIdn2M8Av1Gtcpfyu1Gr52aScoaAAeAfpnnOqmy57yj2fbRZrHj34v/Deb7aBamg24F/M8Y4Odu+DlwCXF2NAhljRo0xiQnbBvAnKl1UjTLl6XZgmzFmKGfb1/FrxLfMsF+vMeb7YxuMMT/CrzXcXo6C5sMYM9kd7W5q+xyUWk2em0ncBrQBXyvnm2hwKYKItOB/WfI9Oa0i0i8iGRHZLSLvKGPx8nVrtq0/LiLbROSa6Z4sIo3ACuDlCQ+NNe+9thyFLIaIdAKX4zc55eOgiDgi8oqI/GoZi5brtUz4LI0xx/BrLtN9lhftl99gMLYAAA84SURBVLV/hv2q4Q3kdw4ezH7+/SLyJRFpL3fBClDId6Nezs09wEngB3k89x9FxBWRUyLyVyISyfdNNOdSnLuBBvw7zZkcwG/u+AnQBPwq8G0R+QVjzL+Vr4jTegb4SrZsK/FzFT8QkXXGmCNT7NOa/R2bsH0w+7ut1IWchU/jN4vNdH5OAR8HfgTY+LXRz4lI1Bjz1+UtIm1c/FmC/3lO91lOt9/qEpSrJETkzfi5pPfP8NSvAI8BfcAm/POxTkReb4xxy1vKaRXz3aj5cyMiUeBtwEMm2/41hRTwd/h55SHgTcDv4+cG78rnveZtcBGRBcDSmZ5njJnsTuReYK8x5sU89v+XCe/7GLAD+O9ASYJLocdijHkgZ/MPROQp/DuuD2d/pn2ZArcXbDbnRkR+HfhvwC8YY87OsP82/A4KY54QkTDwMRH5jDHGK6zkBZvsM5Mptpdiv4oQkVX4+ZZHjTFfnu65xpj35fz5fRHZD/wn/gVwS3lKOLNZfDdq+tzgf65NzNDqYow5BfxGzqanRaQX+HsRudYY85OZ3mjeBhf8hPwX8nieXPCH363wLfiJ+oIZY4yI/BvwKRGxS3R3VtSx5JTptIg8C2yYZt+xO7LWCdvbJjxeCsWemzuBvwV+3xjz70W+97eAX8JPaJaz19ggF3+WAAuY/rMcBCZbvKl1hv0qItuk9QRwDD/IF2orfq1zA1UMLlOY6btR0+cm6x7ggDFmZxH7fgu/A88G/JaYac3bnIsx5mFjjMz0M8mu78QPynn3956qCLPc//wLFX8seZfJGDOK3ytsYtvx2N+T1fCKUszxiMgb8M/J54wx/7MUxSjBa0znZSZ8liKyAr/323Sf5UX7ZU3V3l8x2SaXx/F7I/189jtTkJymmlq505/MVGWr2XMD4y0CheSKJyro3Mzb4DIL9wI/MsYcLGZnERHg7cCeKrcpjxORxcBNQPcMT30CePuEgX7vwg86L5WpeDMSkbX4F7WtwGwHdf4Cfl/+Ui+LPdETwGYRac7Z9i78MRXPzLDfEhG5eWyDiGzCb9PPZ8xVWYhIAPgmcAVwuzHmTJGvcxt+s81M38VqmOm7UZPnJsfbgTDFB5d3Zn/nd26q0c+6Xn+AZYALfHiKx28BHOCWnG3P4F/wbs2e3P/EH1x1Z5WO4RrgP/D78f8s8F78u6oBoGuGY7kcv8nikey+HwUywAeqeE4W4Qe3Y/hJxxtyftbkPG9l9njek7Pt2/hJytuBO4B/xr8r+80KlLsNP2n8Xfxm1vuzn+2fTnjeAeCLE7ZtxW+WeQd+55JXgB9U6xxky/RQ9rP70IRzcAMQzj7ne8D3cva5P7vfL+EPVvwIfvPR84Bd5eOZ8btRL+dmQtl+MsVjFxwLfrP/p7PH8Rb8QZcJ4Nt5v1+1D7iefvCT3S6wbIrH35T9Ar4pZ9sXs1+2BDCK3/3v9ioew3L8AHcKSANns/+QXjvTsWS334zfgyYJHAE+VOVzMlbOyX6eznnequy29+Vs+/PsP/549vx0A++uYNnXAP8n+96ngD+ZeFHNfsZfnrCtFfjH7IV4CD/YXzSIscLn4cg052FV9jlPTzgnb8Yf/X0W/yblOPBZYEE1jyXf70a9nJtsuTqyn/EfTHP+vpzz9z3ATvzZRdL4weeTZG8U8vnRxcKUUkqVnOZclFJKlZwGF6WUUiWnwUUppVTJaXBRSilVchpclFJKlZwGF6WUUiWnwUUppVTJaXBRqoREJCAiv5VdQ35ERIay6+Vcn/Oc66dZ03zsxxORJhH5gYhsneK9jovI57L/f7mIfF5E9mTX33h6mjKuEZHvZdfy6RGRT06Y0gcRuUdEdmWP4aSI/JOILCvRx6Tmgfk8K7JSJZWdGHAb/jQ5nwGeAxbiryv/fRH5f4y/SuGr+EvijvkQ/hQjt+ZsyxhjRkTkdfhTpEx8rzb8FUDHln1Yi79u/XP4E0dOVcY24Cn8Rbzuwl+f49P4N5ofyz7nTvz5p/4O+D385Q/+FHhcRP5ve+ce7FVVxfHPN0AREVCgMEGMQCke15Lp4QxytdEBAxwbKUbIHM2pHE0jKrQpBslmEB8DSRIz2sMeQKaJouQjKG44joyFjRLGjIRQShRlKAHa6o+1D/fcc8/vvrp07+/e9Zk5c36/vfbZZ/8uzFlnrb32WhPs6JciCLoAsUM/CNqBlJD0SVyxTDKzl3Ky3sCLwB4zm1By7VrgRDM7u9A+HE/LMdvMflSQTcLTqZxjZhslvS176Eu6D085UltyrxvwnHDDLZVYlvRlPJfUEDN7TdJKYJSZnZW7bjrwIJ6vbWtx3CAoEm6xIGghkiZLqpP0j+Tu2izp/CT+NJ7M88q8YgEws38DPwTOklRWU34c5Vmls9LTzzUna4U1MQX4RaZYEiuB4/BkpQC98JxSebJ6JC0p3RAEoVyCoCVIqsWLVz2OZ4q9FHcvvZm6zAWeNbPHKwzxcjoPKYzbHxhGvXsrz3g8aWBZLZDxwE4zKyqB5mhUW8TMduIJGrNaJPcAEyVdJqmfpNNxt9h6M3uhlfcLuimx5hIELWMWsNbMFuTaHgaQdAZwOvDFJq4flM7/KrSPTedKlstWMztcQVZm0TRHU3XeTwQws7WSLsczen8/yTcB09twv6CbEpZLULWkiKZDknq187hKUVefyjUfwIt7XS9pSOGSMenc1Fv9aFyx7Cy0Z8qlzHIZR4kCSes7Y8pkLaTJOu+SzgWW40EJ5+Lp108CHiiJKlsm6e42ziPowoRyCaqZGuCFCm/2/wsfx9/if5xr+xrwPeDrwO4UXpwplb7pvLdsMEnH42/9j1rj6qPjgFfNbG/hml64NVSmsM7AyyH/tqU/KMc+vOZIkf7UWzS3AWvM7CtmtsHMVuGFr2rxCLM8i4FZkka2YS5BFyaUS1DNnAlsOQrjfh64N6+0zOyfZnYNMBhfFB+Fu43AC32Br52UcTWuDG4vkY2l3GoZDPTAK4QWuRAvWtdUOeRKNKrzLmlYml+2FjMa+F2+j5ltw623dxfadwB1wOfaMJegCxPKJahmasg9BCX1kXSLpJ1p89+vJdXkL5B0kqS7Je2TtFfSDZK+KukPST4SOBu4r+yGZvaWmT2G72fJXESb8OiqK4r9U8jwTcBSM3u6ZMixlK+3vAocBN5fnD++b+bnZvbXsjk2w6O4e++EXNsncMWRKas/ldz3PXhE2Y6SMX+GWy/xPAmOEAv6QVUiaTC+uW9L+n4cXjK4PzAPd1HNAR6TNNrM9kk6Fo/26gtci7uBbgb64aWbwUvvvk7OIpL0HTwqbD1ekncicCVeAx4ze13SPOAuSavwsOP/4JsiPwOsTnMp/oaT8U2WjSwXM3tL0j3AVZL243XlTwWuw0OF5xTG6oNbNOClrPtJuiR9f8TM3kifl+OW2f2SFgEj8D0ut+fCk5cDd0j6M66M3oG7A3fgJbKLbEp9xnF0LMmgGuno2s5xxNGWAzgfX4AemL7fgrunBuX6DMQf8pem7/PxuuZvz/WZmMa5MX1fATxTuNccXPlkddGfAi4qmdMluBI4kPquB2Y08RsuSPf+QAV5b9zq2Y5bMbtxV9zQkr6n0UwN+1zf9+KK+ED6my0EeuTkwt1cz+GKdjewChhRYZ49ceV7VUf/v4ij8xyxQz+oSiTNBa4zs2GSjgH2ALea2TcK/TLr5Dbc1fRtM5ufkw/F96BMNQ/BXQP0MrMp/6/f0hWQtBdYYmYLO3ouQecgfKRBtVJDvQumBneHNdjAmKK0+gOv4PtCBgEPFcY5JZ2zsN7euJUQtI6D+N8uCIBYcwmqlzOBNelztkHxlUKf2nSuoz5Cak+hzznAPjPLdtD/nca76MO8r4CZZelgBlAe2RZ0U0K5BFVHcoONxtcjoD61ygg80glJPfFF6HVm9pKkTAGNJG1kTKlXrqfhIvQ2GmYszj9AgxJScEUfPDlnEADhFguqkzH4i1GmFJ4HngWWSJouaSoeKjyUFNGV+r4MLJU0TdLFeG6w42m4p+M3wKnpgdlq1EH1XArtp6R7m6S+JfKekuZJ+qOkg5J2SbojJ9/QxLw+XBwPmIAHDmxqy98s6JqE5RJUIzV4osXtAGZmkj4G3An8AI9cWgdcZma7U59DkmbgYbarcYW0EE/SuDE39gbcvTMZuLc1k1LH1nPJsxjYjyvOMr6Lh1wvwDdODsMjyDKuxsOz89wEvA94pmS8ycCvzOxvFe4XdEc6Olwtjjg66sAf6nuA3oX2JXiSytaMJTy8dyfwroKsd2rfXOHatcCmkvbhuEUwq0Q2KckmFton4spxbpL3LcgnA4fxuiwt/W3HpDHvKpH1AHbhNWc6/N80js5zhFss6BZIqpV0o6QLJH1U0jLgVuAa83oreRYDtSnVfH6MTlvPJc2vB/At3MoozXOGZxH4pbUudf5kPNfaT0pkM/D9MitbMV7QDQjlEnQX+gCz8WqKq/G0K1PNbHWxo5ntwnfgn5y1qTrquXwWt5KWVZgDwAeBFyXdmRTkG5Lul/TOJq6ZiW+k3FgiE65Q3yyRBd2YWHMJugVm9gjlqUsq9S++iXfqei6SBuJrSLPN7LBUMcBtCHA5HuAwEzgBz27wgKQPmVmDsOuUVmYasKIoAzCzMmsmCEK5BEELOVLPBVhpZvk9NUeznsvmYqN0pJ7LE7nmm4GnkxJtCqXjIksL8JL+gietPA94stB/Gp6LLZRI0CrCLRYELaPT1nNJ87gCWCBpgKQBuBsQoH9K6pmxD/i9NYzsqsPdb/mIsYyZwHYza6TkgqApQrkEQQuwzl3PZRSeKfkpXHnso37dZRe+yJ+xtcIchSf5rG/w9aAphNUStIFQLkHQCqxz1nOpwyPV8seiJLsQj37LeBgYn8tYAJ4CpxeN0+VfDBxLKJegDcSaSxA0Q2ev55JcahsKY5+WPm40s/050Qp8f89Dkr6JL+gvAp4ws7rCNGYCW8yskrUTBBUJ5RIEzbMNf9DOwq395/E6LQ9mHcxseUo7/yVcmRzE10Q+aWY/rTDuuHQus1zAFchePOz52vR5HTA/hUu3GjN7TdJ5wFJ8b8ohPDz7C/l+ybL5CL7WFAStJuq5BEEQBO1OrLkEQRAE7U4olyAIgqDdCeUSBEEQtDuhXIIgCIJ2J5RLEARB0O6EcgmCIAjanVAuQRAEQbsTyiUIgiBod0K5BEEQBO3OfwHFG6o+rkOLSAAAAABJRU5ErkJggg==\n",
      "text/plain": [
       "<Figure size 432x288 with 1 Axes>"
      ]
     },
     "metadata": {
      "needs_background": "light"
     },
     "output_type": "display_data"
    }
   ],
   "source": [
    "\n",
    "fig,ax = plt.subplots()\n",
    "\n",
    "colors_map=['#1f78b4','#e31a1c']\n",
    "classes=np.sort(list(set(lrdf.exposure_type.values)))\n",
    "for sub_class,color_ in zip(classes,colors_map):\n",
    "    idx = lrdf.exposure_type == sub_class        \n",
    "    ax.scatter(lrdf.loc[idx, lrdf.columns[0]],\n",
    "       lrdf.loc[idx, lrdf.columns[2]], \n",
    "       label=sub_class.replace('stressed','Stressed'),\n",
    "       facecolors=color_,\n",
    "       edgecolors=color_,\n",
    "       alpha=.8,linewidth=3) \n",
    "ax.set_xlabel(lrdf.columns[0],fontsize=15)\n",
    "ax.set_ylabel(lrdf.columns[2],fontsize=15)\n",
    "plt.legend(loc='upper center', \n",
    "                bbox_to_anchor=(0.5, 1.28),\n",
    "                prop={'size':22},\n",
    "                fancybox=True, framealpha=0.5,ncol=2\n",
    "                , markerscale=2, facecolor=\"grey\")\n",
    "plt.show()\n",
    "\n"
   ]
  },
  {
   "cell_type": "markdown",
   "metadata": {},
   "source": [
    "From the taxonomy table we can pull out the assignment of these two sOTUS. We can see that they belong to the family Ruminococcaceae and Coriobacteriaceae. We see that Ruminococcaceae (numerator sOTU108) increased relative to Coriobacteriaceae (denominator sOTU467)."
   ]
  },
  {
   "cell_type": "code",
   "execution_count": 21,
   "metadata": {},
   "outputs": [
    {
     "data": {
      "text/html": [
       "<div>\n",
       "<style scoped>\n",
       "    .dataframe tbody tr th:only-of-type {\n",
       "        vertical-align: middle;\n",
       "    }\n",
       "\n",
       "    .dataframe tbody tr th {\n",
       "        vertical-align: top;\n",
       "    }\n",
       "\n",
       "    .dataframe thead th {\n",
       "        text-align: right;\n",
       "    }\n",
       "</style>\n",
       "<table border=\"1\" class=\"dataframe\">\n",
       "  <thead>\n",
       "    <tr style=\"text-align: right;\">\n",
       "      <th></th>\n",
       "      <th>sOTU108</th>\n",
       "      <th>sOTU467</th>\n",
       "    </tr>\n",
       "  </thead>\n",
       "  <tbody>\n",
       "    <tr>\n",
       "      <th>Taxon</th>\n",
       "      <td>k__Bacteria; p__Firmicutes; c__Clostridia; o__...</td>\n",
       "      <td>k__Bacteria; p__Actinobacteria; c__Coriobacter...</td>\n",
       "    </tr>\n",
       "    <tr>\n",
       "      <th>Confidence</th>\n",
       "      <td>0.734537</td>\n",
       "      <td>0.929315</td>\n",
       "    </tr>\n",
       "    <tr>\n",
       "      <th>sequence</th>\n",
       "      <td>TACGTAGGGAGCGAGCGTTGTCCGGAATTACTGGGTGTAAAGGGAG...</td>\n",
       "      <td>TACGTAGGGGGCGAGCGTTATCCGGATTCATTGGGCGTAAAGCGCG...</td>\n",
       "    </tr>\n",
       "  </tbody>\n",
       "</table>\n",
       "</div>"
      ],
      "text/plain": [
       "                                                      sOTU108  \\\n",
       "Taxon       k__Bacteria; p__Firmicutes; c__Clostridia; o__...   \n",
       "Confidence                                           0.734537   \n",
       "sequence    TACGTAGGGAGCGAGCGTTGTCCGGAATTACTGGGTGTAAAGGGAG...   \n",
       "\n",
       "                                                      sOTU467  \n",
       "Taxon       k__Bacteria; p__Actinobacteria; c__Coriobacter...  \n",
       "Confidence                                           0.929315  \n",
       "sequence    TACGTAGGGGGCGAGCGTTATCCGGATTCATTGGGCGTAAAGCGCG...  "
      ]
     },
     "execution_count": 21,
     "metadata": {},
     "output_type": "execute_result"
    }
   ],
   "source": [
    "taxa.loc[['sOTU108','sOTU467']].T"
   ]
  }
 ],
 "metadata": {
  "kernelspec": {
   "display_name": "Python 3",
   "language": "python",
   "name": "python3"
  },
  "language_info": {
   "codemirror_mode": {
    "name": "ipython",
    "version": 3
   },
   "file_extension": ".py",
   "mimetype": "text/x-python",
   "name": "python",
   "nbconvert_exporter": "python",
   "pygments_lexer": "ipython3",
   "version": "3.5.5"
  }
 },
 "nbformat": 4,
 "nbformat_minor": 2
}
