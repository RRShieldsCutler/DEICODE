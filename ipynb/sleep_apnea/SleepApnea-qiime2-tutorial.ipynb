{
 "cells": [
  {
   "cell_type": "markdown",
   "metadata": {},
   "source": [
    "# Tutorial \n",
    "\n",
    "**Note**: This guide assumes you have installed QIIME 2 using one of the procedures in the [install documents](https://docs.qiime2.org/2019.1/install/) and have installed [DEICODE](https://library.qiime2.org/plugins/q2-deicode).\n",
    "\n",
    "\n",
    "## Introduction \n",
    "\n",
    "In this tutorial you will learn how to interpret and perform Robust Aitchison PCA through QIIME 2. The focus of this tutorial is compositional beta diversity. There are many beta diversity metrics that have been proposed, all with varying benefits on varying data structures. However, presence/absence metric often prove to give better results than those that rely on abundances (i.e. unweighted vs. weighted UniFrac). One component of this phenomenon is the interpretation of relative abundances can provide spurious results (see [the differential abundance analysis introduction](https://docs.qiime2.org/2019.1/tutorials/gneiss/). One solution to this problem is to use a compositional distance metric such as Aitchison distance. \n",
    "\n",
    "\n",
    "As a toy example let’s build three taxa. These three taxa represent common distributions we see in microbiome datasets. Where the first taxon is increasing exponentially across samples, this is a trend that we would be interested in. However, taxon 2 and 3 have much higher counts and taxon 3 is randomly fluctuating across samples.  \n",
    "\n",
    "![T1](img/T1.png)\n",
    "\n",
    "In our distances below we have Euclidean, Bray-Curtis, Jaccard, and Aitchison distances (from left to right). We can see that the abundance based metrics Euclidean and Bray-Curtis are heavily influenced by the abundance of taxon 3 and seem to randomly fluctuate. In the presence/absence metric, Jaccard, we see that the distance saturates to one very quickly. However, in the Aitchison distance we see a linear curve representing taxon 1. The reason the distance is linear is because Aitchison distance relies on log transforms (the log of an exponential taxon 1 is linear). \n",
    "\n",
    "\n",
    "![T2](img/T2.png)\n",
    "\n",
    "\n",
    "From this toy example, it is clear that Aitchison distance better accounts for the proportions. However, we made the unrealistic assumption in our toy example that there were no zero counts. In real microbiome datasets there are a large number of zeros (i.e. sparsity). Sparsity complicates log ratio transformations because the log-ratio of zero is undefined. To solve this pseudo counts, that can skew results, are commonly used (see [Naught all zeros in sequence count data are the same](https://www.biorxiv.org/content/10.1101/477794v1)). \n",
    "\n",
    "Robust Aitchison PCA solves this problem in two steps:\n",
    "\n",
    "1.\tCompostional preprocessing using the centered log ratio transform on only the non-zero values of the data (no pseudo count)\n",
    "2.\tDimensionality reduction through PCA on only the non-zero values of the data (via [SVD]( https://en.wikipedia.org/wiki/Singular_value_decomposition) by [matrix completion]( https://arxiv.org/pdf/0906.2027.pdf)). \n",
    "\n",
    "To demonstrate this in action we will run an example dataset below, where the output can be viewed as a compositional biplot through emperor. \n",
    "\n",
    "## Example \n",
    "\n",
    "In this example we will Robust Aitchison PCA via DEICODE on a study of sleep apnea published in [Tripathi et al. (2018)](https://msystems.asm.org/content/3/3/e00020-18). The study consists of mouse fecal samples and focuses on comparing the gut microbiome of animals exposed to intermittent hypoxia and hypercapnia (IHH; as a model of obstructive sleep apnea) to controls exposed to room air (air). \n",
    "\n",
    "Before beginning the tutorial let’s make a directory to store the data"
   ]
  },
  {
   "cell_type": "code",
   "execution_count": 37,
   "metadata": {},
   "outputs": [],
   "source": [
    "!mkdir qiime2-sleep-apnea-tutorial"
   ]
  },
  {
   "cell_type": "markdown",
   "metadata": {},
   "source": [
    "\n",
    "###### Table\n",
    "**Download URL**:https://github.com/biocore/DEICODE/blob/master/ipynb/sleep_apnea/qiime2-sleep-apnea-tutorial/qiita_10422_table.biom.qza <br>\n",
    "**save as:** qiita_10422_table.biom.qza <br>\n",
    "\n",
    "###### Sample Metadata\n",
    "**Download URL**: https://github.com/biocore/DEICODE/blob/master/ipynb/sleep_apnea/qiime2-sleep-apnea-tutorial/qiita_10422_metadata.tsv <br>\n",
    "**save as:** qiita_10422_metadata.tsv <br>\n",
    "\n",
    "###### Feature Metadata\n",
    "**Download URL**: https://github.com/biocore/DEICODE/blob/master/ipynb/sleep_apnea/qiime2-sleep-apnea-tutorial/taxonomy.qza <br>\n",
    "**save as:** taxonomy.qza <br>\n"
   ]
  },
  {
   "cell_type": "markdown",
   "metadata": {},
   "source": [
    "Using qiita_10422_table.biom.qza, of the type raw count table (FeatureTable[Frequency]), we will generate our beta diversity ordination file using DEICODE. There are a few parameters to DEICODE that we may want to consider. \n",
    "\n",
    "**Note**: you can access the options at anytime by using the --help functionality. "
   ]
  },
  {
   "cell_type": "code",
   "execution_count": 19,
   "metadata": {},
   "outputs": [
    {
     "name": "stdout",
     "output_type": "stream",
     "text": [
      "Usage: qiime deicode rpca [OPTIONS]\r\n",
      "\r\n",
      "  Performs robust center log-ratio transform robust PCA and ranks the\r\n",
      "  features by the loadings of the resulting SVD.\r\n",
      "\r\n",
      "Options:\r\n",
      "  --i-table ARTIFACT PATH FeatureTable[Frequency]\r\n",
      "                                  Input table of counts.  [required]\r\n",
      "  --p-rank INTEGER                The underlying low-rank structure\r\n",
      "                                  (suggested: 1 < rank < 10)  [default: 3]\r\n",
      "  --p-min-sample-count INTEGER    Minimum sum cutoff of sample across all\r\n",
      "                                  features  [default: 500]\r\n",
      "  --p-min-feature-count INTEGER   Minimum sum cutoff of features across all\r\n",
      "                                  samples  [default: 10]\r\n",
      "  --p-iterations INTEGER          The number of iterations to optomize the\r\n",
      "                                  solution (suggested to below 100, beware of\r\n",
      "                                  overfitting)  [default: 5]\r\n",
      "  --o-biplot ARTIFACT PATH PCoAResults % Properties(['biplot'])\r\n",
      "                                  A biplot of the (Robust Aitchison) RPCA\r\n",
      "                                  feature loadings  [required if not passing\r\n",
      "                                  --output-dir]\r\n",
      "  --o-distance-matrix ARTIFACT PATH DistanceMatrix\r\n",
      "                                  The Aitchison distance of the sample\r\n",
      "                                  loadings from RPCA.  [required if not\r\n",
      "                                  passing --output-dir]\r\n",
      "  --output-dir DIRECTORY          Output unspecified results to a directory\r\n",
      "  --cmd-config FILE               Use config file for command options\r\n",
      "  --verbose                       Display verbose output to stdout and/or\r\n",
      "                                  stderr during execution of this action.\r\n",
      "                                  [default: False]\r\n",
      "  --quiet                         Silence output if execution is successful\r\n",
      "                                  (silence is golden).  [default: False]\r\n",
      "  --citations                     Show citations and exit.\r\n",
      "  --help                          Show this message and exit.\r\n"
     ]
    }
   ],
   "source": [
    "! qiime deicode rpca --help"
   ]
  },
  {
   "cell_type": "markdown",
   "metadata": {},
   "source": [
    "The first are sample filtering cutoffs these are  p-min-feature-count and p-min-sample-count. Both of these parameters accept integer values and remove feature or samples, respectively, with sums below this cutoff. The feature cut-off is useful in the case that features with very low total counts among all samples represent contamination or chimeric sequences. The sample cut off is useful for the case that some sample received very few reads relative to other samples.\n",
    "\n",
    "**Note:** it is _not_ recommended to bin your features by taxonomic assignment (i.e. by genus level). <br>\n",
    "**Note:** it is _not_ recommended to rarefy your data before using DEICODE. \n",
    "\n",
    "The other two parameters are --p-rank and --p-iterations. These parameters should rarely have to change from the default. However, the minimum value of --p-rank can be 1 and the maximum recommended value is 10. Similarly, the minimum value of --p-iterations is 1 and is recommended to be below 500.  \n",
    "\n",
    "Now that we understand the acceptable parameters, we are ready to run DEICODE.  \n"
   ]
  },
  {
   "cell_type": "code",
   "execution_count": 20,
   "metadata": {},
   "outputs": [
    {
     "name": "stdout",
     "output_type": "stream",
     "text": [
      "\u001b[33mQIIME is caching your current deployment for improved performance. This may take a few moments and should only happen once per deployment.\u001b[0m\r\n"
     ]
    }
   ],
   "source": [
    "!qiime dev refresh-cache"
   ]
  },
  {
   "cell_type": "code",
   "execution_count": 21,
   "metadata": {},
   "outputs": [
    {
     "name": "stdout",
     "output_type": "stream",
     "text": [
      "\u001b[32mSaved PCoAResults % Properties(['biplot']) to: qiime2-sleep-apnea-tutorial/ordination.qza\u001b[0m\n",
      "\u001b[32mSaved DistanceMatrix to: qiime2-sleep-apnea-tutorial/distance.qza\u001b[0m\n"
     ]
    }
   ],
   "source": [
    "! qiime deicode rpca \\\n",
    "    --i-table qiime2-sleep-apnea-tutorial/qiita_10422_table.biom.qza \\\n",
    "    --p-min-feature-count 10 \\\n",
    "    --p-min-sample-count 500 \\\n",
    "    --o-biplot  qiime2-sleep-apnea-tutorial/ordination.qza \\\n",
    "    --o-distance-matrix  qiime2-sleep-apnea-tutorial/distance.qza"
   ]
  },
  {
   "cell_type": "markdown",
   "metadata": {},
   "source": [
    "Now that we have our ordination file, with type (PCoAResults % Properties(['biplot'])), we are ready to visualize the results. This can be done using emperor as a biplot. In this case we will include metadata for our features (optional) and our samples (required). "
   ]
  },
  {
   "cell_type": "code",
   "execution_count": 22,
   "metadata": {},
   "outputs": [
    {
     "name": "stdout",
     "output_type": "stream",
     "text": [
      "\u001b[32mSaved Visualization to: qiime2-sleep-apnea-tutorial/biplot.qzv\u001b[0m\r\n"
     ]
    }
   ],
   "source": [
    "! qiime emperor biplot \\\n",
    "    --i-biplot qiime2-sleep-apnea-tutorial/ordination.qza \\\n",
    "    --m-sample-metadata-file qiime2-sleep-apnea-tutorial/qiita_10422_metadata.tsv \\\n",
    "    --m-feature-metadata-file qiime2-sleep-apnea-tutorial/taxonomy.qza \\\n",
    "    --o-visualization qiime2-sleep-apnea-tutorial/biplot.qzv \\\n",
    "    --p-number-of-features 8"
   ]
  },
  {
   "cell_type": "markdown",
   "metadata": {},
   "source": [
    "The interpretation of the compositional biplot may differ from classical biplot interpretation (we can view the qzv file at [view.qiime2](https://view.qiime2.org). The important features with regard to sample clusters are not a single arrow but by the log ratio between features represented by arrows pointing in different directions. A visualization tool for these log ratios is coming soon to QIIME 2. \n",
    "\n",
    "![](https://cdn1.imggmi.com/uploads/2019/2/6/eaf9c58ee3b00949fcd4947333376a03-full.png)\n",
    "\n",
    "From this visualization we noticed that exposure_type seems explain the clusters well. We can run [PERMANOVA](https://docs.qiime2.org/2019.1/plugins/available/diversity/beta-group-significance/) on the distances to get a statistical significance for this. "
   ]
  },
  {
   "cell_type": "code",
   "execution_count": 23,
   "metadata": {},
   "outputs": [
    {
     "name": "stdout",
     "output_type": "stream",
     "text": [
      "\u001b[32mSaved Visualization to: qiime2-sleep-apnea-tutorial/exposure_group_significance.qzv\u001b[0m\r\n"
     ]
    }
   ],
   "source": [
    "!qiime diversity beta-group-significance \\\n",
    "    --i-distance-matrix qiime2-sleep-apnea-tutorial/distance.qza \\\n",
    "    --m-metadata-file qiime2-sleep-apnea-tutorial/qiita_10422_metadata.tsv \\\n",
    "    --m-metadata-column exposure_type \\\n",
    "    --p-method permanova \\\n",
    "    --o-visualization qiime2-sleep-apnea-tutorial/exposure_group_significance.qzv\n"
   ]
  },
  {
   "cell_type": "markdown",
   "metadata": {},
   "source": [
    "Indeed we can now see that the clusters we saw in the biplot were significant by viewing the exposure_group_significance.qzv at [view.qiime2](https://view.qiime2.org).\n",
    "\n",
    "![](https://cdn1.imggmi.com/uploads/2019/2/6/f38d41bce26d8d7930db270680921130-full.png)\n"
   ]
  }
 ],
 "metadata": {
  "kernelspec": {
   "display_name": "Python 3",
   "language": "python",
   "name": "python3"
  },
  "language_info": {
   "codemirror_mode": {
    "name": "ipython",
    "version": 3
   },
   "file_extension": ".py",
   "mimetype": "text/x-python",
   "name": "python",
   "nbconvert_exporter": "python",
   "pygments_lexer": "ipython3",
   "version": "3.6.8"
  }
 },
 "nbformat": 4,
 "nbformat_minor": 2
}
