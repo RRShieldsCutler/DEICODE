{
 "cells": [
  {
   "cell_type": "code",
   "execution_count": 1,
   "metadata": {},
   "outputs": [],
   "source": [
    "from __future__ import division\n",
    "import warnings; warnings.simplefilter('ignore') #for PCoA warnings\n",
    "import pandas as pd\n",
    "import numpy as np\n",
    "import seaborn as sns\n",
    "import itertools\n",
    "import matplotlib.pyplot as plt\n",
    "from DEICODE import untangle, fetch, optimize_impute\n",
    "from biom import load_table\n",
    "#transforms \n",
    "from gneiss.util import match\n",
    "from skbio.stats.composition import clr, ilr, centralize\n",
    "#else\n",
    "%matplotlib inline"
   ]
  },
  {
   "cell_type": "code",
   "execution_count": 2,
   "metadata": {},
   "outputs": [],
   "source": [
    "map_file='data/benchmarking/map.txt' #import metadata\n",
    "in_biom='data/benchmarking/cfs.biom' #import biom file\n",
    "table = load_table(in_biom)\n",
    "mapping = pd.read_table(map_file, index_col=0)\n",
    "\n",
    "table = pd.DataFrame(np.array(table.matrix_data.todense()).T, \n",
    "                     index=table.ids(axis='sample'),\n",
    "                     columns=table.ids(axis='observation'))\n",
    "table, mapping = match(table, mapping)"
   ]
  },
  {
   "cell_type": "code",
   "execution_count": 3,
   "metadata": {},
   "outputs": [],
   "source": [
    "from gneiss.cluster import correlation_linkage\n",
    "\n",
    "formula = \"Subject+Sex+Age+BMI+sCD14ugml+LPSpgml\"\n",
    "tree = correlation_linkage(table+1)\n",
    "res_pseudo, params, cv_pseudo = optimize_impute.ols_regression(\n",
    "    table+1, tree, mapping, \n",
    "    formula=formula, complete_matrix=False)"
   ]
  },
  {
   "cell_type": "code",
   "execution_count": 4,
   "metadata": {},
   "outputs": [],
   "source": [
    "res_complete, params, cv_complete = optimize_impute.ols_regression(\n",
    "    table, tree, mapping, \n",
    "    formula=formula, complete_matrix=True)"
   ]
  },
  {
   "cell_type": "code",
   "execution_count": 5,
   "metadata": {},
   "outputs": [],
   "source": [
    "import pickle\n",
    "\n",
    "pickle.dump(res_pseudo, open('cfs_pseudo_regression_model.pickle', 'wb'))\n",
    "cv_pseudo.to_csv('cfs_pseudo_cv.csv')\n",
    "pickle.dump(res_complete, open('cfs_complete_regression_model.pickle', 'wb'))\n",
    "cv_complete.to_csv('cfs_complete_cv.csv')"
   ]
  },
  {
   "cell_type": "code",
   "execution_count": null,
   "metadata": {
    "collapsed": true
   },
   "outputs": [],
   "source": []
  }
 ],
 "metadata": {
  "kernelspec": {
   "display_name": "Python 3",
   "language": "python",
   "name": "python3"
  },
  "language_info": {
   "codemirror_mode": {
    "name": "ipython",
    "version": 3
   },
   "file_extension": ".py",
   "mimetype": "text/x-python",
   "name": "python",
   "nbconvert_exporter": "python",
   "pygments_lexer": "ipython3",
   "version": "3.5.3"
  }
 },
 "nbformat": 4,
 "nbformat_minor": 2
}
